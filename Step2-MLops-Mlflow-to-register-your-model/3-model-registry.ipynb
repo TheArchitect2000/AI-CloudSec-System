{
 "cells": [
  {
   "cell_type": "markdown",
   "metadata": {},
   "source": [
    "## 3- MLflow Model Registry"
   ]
  },
  {
   "cell_type": "markdown",
   "metadata": {},
   "source": [
    "## 3.1. Model Registry"
   ]
  },
  {
   "cell_type": "code",
   "execution_count": null,
   "metadata": {},
   "outputs": [],
   "source": [
    "import mlflow\n",
    "mlflow.set_tracking_uri(\"http://127.0.0.1:5000/\")\n",
    "model_id = \"m-d8638308e151497b8b049622c8a3cf6a\" # Find this model_id in your mlflow ui first and replace it\n",
    "model_name = \"CatClassifier\" # Choose a name for your model\n",
    "model_uri = f\"models:/{model_id}\"\n",
    "mlflow.register_model(model_uri=model_uri, name=model_name)"
   ]
  },
  {
   "cell_type": "code",
   "execution_count": null,
   "metadata": {},
   "outputs": [],
   "source": [
    "import mlflow\n",
    "mlflow.set_tracking_uri(\"http://127.0.0.1:5000/\")\n",
    "model_id = \"m-abc9b2927a53483f8f1ba1c2c37b187a\" # Find this model_id in your mlflow ui first and replace it\n",
    "model_name = \"CatDogClassifier\" # Choose a name for your model\n",
    "model_uri = f\"models:/{model_id}\"\n",
    "mlflow.register_model(model_uri=model_uri, name=model_name)"
   ]
  },
  {
   "cell_type": "markdown",
   "metadata": {},
   "source": [
    "## 3.2. Version Search"
   ]
  },
  {
   "cell_type": "code",
   "execution_count": null,
   "metadata": {},
   "outputs": [],
   "source": [
    "from mlflow.tracking import MlflowClient\n",
    "model_name = \"CatDogClassifier\"\n",
    "client = MlflowClient(tracking_uri=\"http://127.0.0.1:5000/\")\n",
    "\n",
    "latest_versions = client.get_latest_versions(name=model_name)\n",
    "\n",
    "for version in latest_versions:\n",
    "    print(f\"version: {version.version}, stage: {version.current_stage}\")"
   ]
  },
  {
   "cell_type": "markdown",
   "metadata": {},
   "source": [
    "## 3.3. Stage Transition"
   ]
  },
  {
   "cell_type": "code",
   "execution_count": null,
   "metadata": {},
   "outputs": [],
   "source": [
    "model_version=1\n",
    "new_stage = \"Staging\"\n",
    "model_name = \"CatDogClassifier\"\n",
    "\n",
    "client.transition_model_version_stage(\n",
    "    name=model_name,\n",
    "    version=model_version,\n",
    "    stage=new_stage,\n",
    "    archive_existing_versions=False\n",
    ")"
   ]
  },
  {
   "cell_type": "code",
   "execution_count": null,
   "metadata": {},
   "outputs": [],
   "source": [
    "model_version=1\n",
    "new_stage = \"Production\"\n",
    "model_name = \"CatDogClassifier\"\n",
    "\n",
    "client.transition_model_version_stage(\n",
    "    name=model_name,\n",
    "    version=model_version,\n",
    "    stage=new_stage,\n",
    "    archive_existing_versions=True\n",
    ")"
   ]
  },
  {
   "cell_type": "markdown",
   "metadata": {},
   "source": [
    "## 3.4. Update MetaData for a Model"
   ]
  },
  {
   "cell_type": "code",
   "execution_count": null,
   "metadata": {},
   "outputs": [],
   "source": [
    "from datetime import datetime\n",
    "model_version=1\n",
    "model_name = \"CatDogClassifier\"\n",
    "date = datetime.today().date()\n",
    "new_description = f\"The model version {model_version} was transitioned to production on {date}\"\n",
    "\n",
    "client.update_model_version(\n",
    "    name=model_name,\n",
    "    version=model_version,\n",
    "    description=new_description\n",
    ")"
   ]
  },
  {
   "cell_type": "markdown",
   "metadata": {},
   "source": [
    "## 3.5. Load Model based on Stage and Model Name"
   ]
  },
  {
   "cell_type": "code",
   "execution_count": 23,
   "metadata": {},
   "outputs": [
    {
     "name": "stderr",
     "output_type": "stream",
     "text": [
      "Downloading artifacts: 100%|██████████| 5/5 [00:00<00:00, 473.13it/s]\n"
     ]
    }
   ],
   "source": [
    "model_name = \"CatDogClassifier\"\n",
    "stage = \"Production\"  # Can be None, \"Staging\", \"Production\", or \"Archived\"\n",
    "\n",
    "model = mlflow.pyfunc.load_model(f\"models:/{model_name}/{stage}\")\n"
   ]
  },
  {
   "cell_type": "markdown",
   "metadata": {},
   "source": [
    "## 3.6. Model Load and Execute"
   ]
  },
  {
   "cell_type": "code",
   "execution_count": 24,
   "metadata": {},
   "outputs": [
    {
     "name": "stdout",
     "output_type": "stream",
     "text": [
      "rmse: 4660334167.735469\n",
      "CPU times: user 1.92 ms, sys: 1.44 ms, total: 3.36 ms\n",
      "Wall time: 2.77 ms\n"
     ]
    }
   ],
   "source": [
    "from sklearn.metrics import mean_squared_error\n",
    "from sklearn.model_selection import train_test_split\n",
    "import pandas as pd\n",
    "import kagglehub\n",
    "import mlflow\n",
    "\n",
    "def load_data(kagglehub_path: str):\n",
    "    path = kagglehub.dataset_download(kagglehub_path)\n",
    "    df = pd.read_csv(path + \"/housing.csv\")\n",
    "    df.dropna(inplace=True)\n",
    "    xtrain, xtest, ytrain, ytest = train_test_split(df.drop(columns=['median_house_value','ocean_proximity']), \n",
    "                                                    df['median_house_value'], test_size=0.4, random_state=42)\n",
    "    return xtrain, xtest, ytrain, ytest\n",
    "\n",
    "%time print(f'rmse: {mean_squared_error(ytest, model.predict(xtest))}')"
   ]
  }
 ],
 "metadata": {
  "kernelspec": {
   "display_name": ".venv (3.13.3)",
   "language": "python",
   "name": "python3"
  },
  "language_info": {
   "codemirror_mode": {
    "name": "ipython",
    "version": 3
   },
   "file_extension": ".py",
   "mimetype": "text/x-python",
   "name": "python",
   "nbconvert_exporter": "python",
   "pygments_lexer": "ipython3",
   "version": "3.13.3"
  }
 },
 "nbformat": 4,
 "nbformat_minor": 4
}
