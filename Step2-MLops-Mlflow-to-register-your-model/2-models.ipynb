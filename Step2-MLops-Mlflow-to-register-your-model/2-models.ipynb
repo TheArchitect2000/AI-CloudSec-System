{
 "cells": [
  {
   "cell_type": "markdown",
   "id": "47c3e97a",
   "metadata": {},
   "source": [
    "## 2- MLflow Models"
   ]
  },
  {
   "cell_type": "code",
   "execution_count": null,
   "id": "138f714b",
   "metadata": {},
   "outputs": [],
   "source": [
    "from sklearn.linear_model import LinearRegression\n",
    "from sklearn.model_selection import train_test_split\n",
    "from sklearn.metrics import mean_squared_error, mean_absolute_error, r2_score\n",
    "import pandas as pd\n",
    "import pickle\n",
    "\n",
    "# Code from KaggleHub to download dataset\n",
    "import kagglehub\n",
    "path = kagglehub.dataset_download(\"camnugent/california-housing-prices\")\n",
    "df = pd.read_csv(path + \"/housing.csv\")\n",
    "\n",
    "import mlflow\n",
    "mlflow.set_tracking_uri(\"http://127.0.0.1:5000\")\n",
    "mlflow.set_experiment(\"california-housing-exp200\")\n",
    "with mlflow.start_run():\n",
    "    mlflow.set_tag(\"developer\", \"Reza\") \n",
    "    mlflow.log_param(\"data-path\", path+\"/housing.csv\")\n",
    "    params = { 'TestSize':0.3, 'ScalingNormalization':False}\n",
    "    mlflow.log_params(params)\n",
    "\n",
    "    # Training the model\n",
    "    df.dropna(inplace=True)\n",
    "    xtrain, xtest, ytrain, ytest = train_test_split(df.drop(columns=['median_house_value','ocean_proximity']), \n",
    "                                                    df['median_house_value'], test_size=0.3, random_state=42)\n",
    "    model = LinearRegression()\n",
    "    model.fit(xtrain, ytrain)\n",
    "    pred = model.predict(xtest)\n",
    "    mse = mean_squared_error(ytest, pred)\n",
    "    mae = mean_absolute_error(ytest, pred)\n",
    "    r2 = r2_score(ytest, pred)\n",
    "    # with open(\"housing-model.pkl\", \"wb\") as f:\n",
    "    #         pickle.dump(model, f)\n",
    "\n",
    "    mlflow.log_metric(\"mean_squared_error\",  mse)\n",
    "    mlflow.log_metric(\"mean_absolute_error\",  mae)\n",
    "    mlflow.log_metric(\"r2_score\",  r2)\n",
    "    # mlflow.log_artifact(local_path=\"housing-model.pkl\", artifact_path=\"california-housing\")\n",
    "\n",
    "    mlflow.sklearn.log_model(model, name=\"housing_linear_regression_2\")\n"
   ]
  },
  {
   "cell_type": "code",
   "execution_count": null,
   "id": "c7a21767",
   "metadata": {},
   "outputs": [],
   "source": [
    "from sklearn.linear_model import LinearRegression\n",
    "from sklearn.model_selection import train_test_split\n",
    "from sklearn.metrics import mean_squared_error, mean_absolute_error, r2_score\n",
    "import pandas as pd\n",
    "import pickle\n",
    "\n",
    "# Code from KaggleHub to download dataset\n",
    "import kagglehub\n",
    "path = kagglehub.dataset_download(\"camnugent/california-housing-prices\")\n",
    "df = pd.read_csv(path + \"/housing.csv\")\n",
    "\n",
    "import mlflow\n",
    "mlflow.set_tracking_uri(\"http://127.0.0.1:5000\")\n",
    "mlflow.set_experiment(\"california-housing-exp200\")\n",
    "with mlflow.start_run():\n",
    "    mlflow.set_tag(\"developer\", \"Reza\") \n",
    "    mlflow.log_param(\"data-path\", path+\"/housing.csv\")\n",
    "    params = { 'TestSize':0.4, 'ScalingNormalization':False}\n",
    "    mlflow.log_params(params)\n",
    "\n",
    "    # Training the model\n",
    "    df.dropna(inplace=True)\n",
    "    xtrain, xtest, ytrain, ytest = train_test_split(df.drop(columns=['median_house_value','ocean_proximity']), \n",
    "                                                    df['median_house_value'], test_size=0.4, random_state=42)\n",
    "    model = LinearRegression()\n",
    "    model.fit(xtrain, ytrain)\n",
    "    pred = model.predict(xtest)\n",
    "    mse = mean_squared_error(ytest, pred)\n",
    "    mae = mean_absolute_error(ytest, pred)\n",
    "    r2 = r2_score(ytest, pred)\n",
    "    # with open(\"housing-model.pkl\", \"wb\") as f:\n",
    "    #         pickle.dump(model, f)\n",
    "\n",
    "    mlflow.log_metric(\"mean_squared_error\",  mse)\n",
    "    mlflow.log_metric(\"mean_absolute_error\",  mae)\n",
    "    mlflow.log_metric(\"r2_score\",  r2)\n",
    "    # mlflow.log_artifact(local_path=\"housing-model.pkl\", artifact_path=\"california-housing\")\n",
    "\n",
    "    mlflow.sklearn.log_model(model, name=\"housing_linear_regression_2\")\n"
   ]
  },
  {
   "cell_type": "code",
   "execution_count": null,
   "id": "07e33668",
   "metadata": {},
   "outputs": [],
   "source": [
    "modelid = \"m-907c777a901545e482232ca3504aa045\"\n",
    "model_uri = 'models:/{}'.format(modelid)\n",
    "Load_model = mlflow.pyfunc.load_model(model_uri)\n",
    "\n",
    "pred = Load_model.predict(xtest)\n",
    "mse = mean_squared_error(ytest, pred)\n",
    "print(\"Mean Squared Error:\", mse)"
   ]
  }
 ],
 "metadata": {
  "kernelspec": {
   "display_name": ".venv (3.13.3)",
   "language": "python",
   "name": "python3"
  },
  "language_info": {
   "codemirror_mode": {
    "name": "ipython",
    "version": 3
   },
   "file_extension": ".py",
   "mimetype": "text/x-python",
   "name": "python",
   "nbconvert_exporter": "python",
   "pygments_lexer": "ipython3",
   "version": "3.13.3"
  }
 },
 "nbformat": 4,
 "nbformat_minor": 5
}
