{
 "cells": [
  {
   "cell_type": "markdown",
   "id": "0",
   "metadata": {},
   "source": [
    "## 0- MLflow Installation"
   ]
  },
  {
   "cell_type": "code",
   "execution_count": null,
   "id": "1",
   "metadata": {},
   "outputs": [],
   "source": [
    "!pip install mlflow -q\n",
    "!mlflow ui --backend-store-uri sqlite:///mlflow.db --port 5000"
   ]
  },
  {
   "cell_type": "markdown",
   "id": "2",
   "metadata": {},
   "source": [
    "## 1- MLflow Tracking"
   ]
  },
  {
   "cell_type": "code",
   "execution_count": null,
   "id": "3",
   "metadata": {},
   "outputs": [],
   "source": [
    "import mlflow\n",
    "mlflow.set_tracking_uri(\"http://127.0.0.1:5000\")\n",
    "mlflow.set_experiment(\"california-housing-exp100\")\n",
    "with mlflow.start_run():\n",
    "    mlflow.set_tag(\"developer\", \"Reza\") \n",
    "    mlflow.log_param(\"data-path\", path+\"/housing.csv\")\n",
    "    params = { 'TestSize':0.3, 'ScalingNormalization':False}\n",
    "    mlflow.log_params(params)\n",
    "\n",
    "    # model = LinearRegression() \n",
    "    # model.fit(xtrain, ytrain) \n",
    "    # pred = model.predict(xtest)\n",
    "    # mse = mean_squared_error(ytest, pred)\n",
    "    # with open(\"housing-model.pkl\", \"wb\") as f:\n",
    "    #     pickle.dump(model, f)\n",
    " \n",
    "    mlflow.log_metric(\"mean_squared_error\",  mse)\n",
    "    mlflow.log_artifact(local_path=\"housing-model.pkl\", artifact_path=\"california-housing\")\n"
   ]
  },
  {
   "cell_type": "code",
   "execution_count": null,
   "id": "4",
   "metadata": {},
   "outputs": [],
   "source": [
    "from sklearn.linear_model import LinearRegression\n",
    "from sklearn.model_selection import train_test_split\n",
    "from sklearn.metrics import mean_squared_error\n",
    "import pandas as pd\n",
    "import pickle\n",
    "\n",
    "# Code from KaggleHub to download dataset\n",
    "import kagglehub\n",
    "path = kagglehub.dataset_download(\"camnugent/california-housing-prices\")\n",
    "df = pd.read_csv(path + \"/housing.csv\")\n",
    "\n",
    "import mlflow\n",
    "mlflow.set_tracking_uri(\"http://127.0.0.1:5000\")\n",
    "mlflow.set_experiment(\"california-housing-exp100\")\n",
    "with mlflow.start_run():\n",
    "    mlflow.set_tag(\"developer\", \"Reza\") \n",
    "    mlflow.log_param(\"data-path\", path+\"/housing.csv\")\n",
    "    params = { 'TestSize':0.3, 'ScalingNormalization':False}\n",
    "    mlflow.log_params(params)\n",
    "\n",
    "    # Training the model\n",
    "    df.dropna(inplace=True)\n",
    "    xtrain, xtest, ytrain, ytest = train_test_split(df.drop(columns=['median_house_value','ocean_proximity']), \n",
    "                                                    df['median_house_value'], test_size=0.3, random_state=42)\n",
    "    model = LinearRegression()\n",
    "    model.fit(xtrain, ytrain)\n",
    "    pred = model.predict(xtest)\n",
    "    mse = mean_squared_error(ytest, pred)\n",
    "    with open(\"housing-model.pkl\", \"wb\") as f:\n",
    "            pickle.dump(model, f)\n",
    "\n",
    "    mlflow.log_metric(\"mean_squared_error\",  mse)\n",
    "    mlflow.log_artifact(local_path=\"housing-model.pkl\", artifact_path=\"california-housing\")\n"
   ]
  },
  {
   "cell_type": "code",
   "execution_count": null,
   "id": "5",
   "metadata": {},
   "outputs": [],
   "source": [
    "from sklearn.linear_model import LinearRegression\n",
    "from sklearn.model_selection import train_test_split\n",
    "from sklearn.metrics import mean_squared_error, mean_absolute_error, r2_score\n",
    "import pandas as pd\n",
    "import pickle\n",
    "\n",
    "# Code from KaggleHub to download dataset\n",
    "import kagglehub\n",
    "path = kagglehub.dataset_download(\"camnugent/california-housing-prices\")\n",
    "df = pd.read_csv(path + \"/housing.csv\")\n",
    "\n",
    "import mlflow\n",
    "mlflow.set_tracking_uri(\"http://127.0.0.1:5000\")\n",
    "mlflow.set_experiment(\"california-housing-exp110\")\n",
    "with mlflow.start_run():\n",
    "    mlflow.set_tag(\"developer\", \"Reza\") \n",
    "    mlflow.log_param(\"data-path\", path+\"/housing.csv\")\n",
    "    params = { 'TestSize':0.3, 'ScalingNormalization':False}\n",
    "    mlflow.log_params(params)\n",
    "\n",
    "    # Training the model\n",
    "    df.dropna(inplace=True)\n",
    "    xtrain, xtest, ytrain, ytest = train_test_split(df.drop(columns=['median_house_value','ocean_proximity']), \n",
    "                                                    df['median_house_value'], test_size=0.3, random_state=42)\n",
    "    model = LinearRegression()\n",
    "    model.fit(xtrain, ytrain)\n",
    "    pred = model.predict(xtest)\n",
    "    mse = mean_squared_error(ytest, pred)\n",
    "    mae = mean_absolute_error(ytest, pred)\n",
    "    r2 = r2_score(ytest, pred)\n",
    "    with open(\"housing-model.pkl\", \"wb\") as f:\n",
    "            pickle.dump(model, f)\n",
    "\n",
    "    mlflow.log_metric(\"mean_squared_error\",  mse)\n",
    "    mlflow.log_metric(\"mean_absolute_error\",  mae)\n",
    "    mlflow.log_metric(\"r2_score\",  r2)\n",
    "    mlflow.log_artifact(local_path=\"housing-model.pkl\", artifact_path=\"california-housing\")\n"
   ]
  },
  {
   "cell_type": "markdown",
   "id": "6",
   "metadata": {},
   "source": [
    "## 3.2. Model Search"
   ]
  },
  {
   "cell_type": "code",
   "execution_count": null,
   "id": "7",
   "metadata": {},
   "outputs": [],
   "source": [
    "from mlflow.tracking import MlflowClient\n",
    "client = MlflowClient(tracking_uri=\"http://127.0.0.1:5000/\")\n",
    "\n",
    "runs = client.search_runs(\n",
    "    experiment_ids=\"3\",\n",
    "    # filter_string=\"metrics.r2_score < 0.7\",\n",
    "    # run_view_type=ViewType.ACTIVE_ONLY,\n",
    "    # max_results=5,\n",
    "    # order_by=[\"metrics.r2_score ASC\"]\n",
    ")\n",
    "for run in runs:\n",
    "    print(f\"experiment id: 3, run id: {run.info.run_id}, r2_score: {run.data.metrics['r2_score']:.4f}\")"
   ]
  }
 ],
 "metadata": {
  "kernelspec": {
   "display_name": ".venv (3.13.3)",
   "language": "python",
   "name": "python3"
  },
  "language_info": {
   "codemirror_mode": {
    "name": "ipython",
    "version": 3
   },
   "file_extension": ".py",
   "mimetype": "text/x-python",
   "name": "python",
   "nbconvert_exporter": "python",
   "pygments_lexer": "ipython3",
   "version": "3.13.3"
  }
 },
 "nbformat": 4,
 "nbformat_minor": 5
}
