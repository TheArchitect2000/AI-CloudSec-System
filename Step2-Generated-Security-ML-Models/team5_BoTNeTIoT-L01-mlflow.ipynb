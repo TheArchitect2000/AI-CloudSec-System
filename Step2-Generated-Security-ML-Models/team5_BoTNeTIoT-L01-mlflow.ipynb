{
 "cells": [
  {
   "cell_type": "markdown",
   "id": "0",
   "metadata": {},
   "source": [
    "### MLflow setup & UI"
   ]
  },
  {
   "cell_type": "code",
   "execution_count": null,
   "id": "1",
   "metadata": {},
   "outputs": [],
   "source": [
    "\n",
    "!pip install mlflow -q\n",
    "!mlflow ui --backend-store-uri sqlite:///../Step2-MLops-Mlflow-to-register-your-model/team5_mlflow.db --port 5000\n"
   ]
  },
  {
   "cell_type": "markdown",
   "id": "2",
   "metadata": {},
   "source": [
    "### Step 0: Load dataset"
   ]
  },
  {
   "cell_type": "code",
   "execution_count": null,
   "id": "3",
   "metadata": {},
   "outputs": [],
   "source": [
    "\n",
    "# Step 0: Load dataset\n",
    "import pandas as pd\n",
    "import numpy as np\n",
    "from sklearn.model_selection import train_test_split\n",
    "from sklearn.pipeline import Pipeline\n",
    "from sklearn.preprocessing import StandardScaler\n",
    "from sklearn.ensemble import RandomForestClassifier\n",
    "from sklearn.metrics import accuracy_score, precision_score, recall_score, f1_score, roc_auc_score\n",
    "import mlflow\n",
    "import os\n",
    "# Set the path to the file you'd like to load\n",
    "file_path = \"team11_BotNeTIoT-L01_label_NoDuplicates.csv\"\n",
    "\n",
    "# Load dataset\n",
    "n = 2426574  # total rows in the file\n",
    "s = 500000   # sample size\n",
    "skip = sorted(np.random.choice(np.arange(1, n + 1), n - s, replace=False))\n",
    " \n",
    "path = '../Step1-Datasets-Feature-Engineering/team11_BotNeTIoT-L01_label_NoDuplicates.csv'\n",
    "                                             \n",
    "if os.path.exists(path):\n",
    "    df = pd.read_csv(path, skiprows=skip)\n",
    "    print(\"✅ File found and loaded successfully!\")\n",
    "else:\n",
    "    print(\"❌ File not found at:\", os.path.abspath(path))\n",
    "    "
   ]
  },
  {
   "cell_type": "markdown",
   "id": "c921fe6d",
   "metadata": {},
   "source": [
    "### Split df into xtrain, ytrain, xtest, ytest"
   ]
  },
  {
   "cell_type": "code",
   "execution_count": 9,
   "id": "57b5b7e2",
   "metadata": {},
   "outputs": [],
   "source": [
    " \n",
    "if df is None:\n",
    "    raise RuntimeError(\"No DataFrame found. Ensure your dataset is loaded into a variable like 'df'.\")\n",
    "\n",
    "# Infer target\n",
    " \n",
    "target =  'label'\n",
    "\n",
    "X_all = df.drop(columns=[target])\n",
    "y_all = df[target]\n",
    "\n",
    "# Numeric-only baseline\n",
    "num_cols = X_all.select_dtypes(include=[np.number]).columns.tolist()\n",
    "if not num_cols:\n",
    "    raise RuntimeError(\"No numeric features available. Please encode features earlier in the notebook.\")\n",
    "X_all = X_all[num_cols]\n",
    "\n",
    "X_train, X_test, y_train, y_test = train_test_split(\n",
    "    X_all, y_all, test_size=0.2, random_state=42, stratify=y_all if y_all.nunique() > 1 else None\n",
    ")\n",
    "\n",
    "# Ensure DataFrames\n",
    "X_train = pd.DataFrame(X_train, columns=num_cols)\n",
    "X_test  = pd.DataFrame(X_test, columns=num_cols)\n",
    "y_train = pd.Series(y_train).reset_index(drop=True).to_frame('y')\n",
    "y_test  = pd.Series(y_test).reset_index(drop=True).to_frame('y')"
   ]
  },
  {
   "cell_type": "markdown",
   "id": "4",
   "metadata": {},
   "source": [
    "### Train a model **inside MLflow** using the dataset, log metrics, and register the model"
   ]
  },
  {
   "cell_type": "code",
   "execution_count": null,
   "id": "5",
   "metadata": {},
   "outputs": [],
   "source": [
    "\n",
    "# Save MLflow DB inside your Step2 folder\n",
    "db_folder = os.path.join(\"..\", \"Step2-MLops-MLflow-to-register-your-model\")  # parent folder\n",
    "os.makedirs(db_folder, exist_ok=True)\n",
    "\n",
    "# Full path to save .db file\n",
    "db_path = os.path.join(db_folder, \"team5_mlflow.db\")\n",
    "\n",
    "# SQLite URI format (absolute path)\n",
    "TRACKING_URI = f\"sqlite:///{os.path.abspath(db_path)}\"\n",
    " \n",
    "EXPERIMENT_NAME = \"team5-BoTNeTIoT\"\n",
    "REGISTERED_MODEL_NAME = \"team5_BoTNeTIoT_Model\"\n",
    "\n",
    "mlflow.set_tracking_uri(TRACKING_URI)\n",
    "mlflow.set_experiment(EXPERIMENT_NAME)\n",
    "\n",
    "\n",
    "\n",
    "pipe = Pipeline([\n",
    "    ('scaler', StandardScaler(with_mean=False)),\n",
    "    ('rf', RandomForestClassifier(n_estimators=200, random_state=42, n_jobs=-1))\n",
    "])\n",
    "\n",
    "# --------- Train & log to MLflow ---------\n",
    "with mlflow.start_run(run_name=\"baseline_rf_training\") as run:\n",
    "    # Log basic params\n",
    "    mlflow.log_params({\n",
    "        \"n_samples\": int(len(df)),\n",
    "        \"n_features_numeric\": int(len(num_cols)),\n",
    "        \"target\": str(target),\n",
    "        \"train_size\": int(len(X_train)),\n",
    "        \"test_size\": int(len(X_test)),\n",
    "        \"model_type\": \"RandomForestClassifier\",\n",
    "        \"rf_n_estimators\": 200,\n",
    "        \"rf_max_depth\": \"None\",\n",
    "        \"rf_random_state\": 42\n",
    "    })\n",
    "    \n",
    "    # Fit and evaluate\n",
    "    pipe.fit(X_train, y_train.values.ravel())\n",
    "    y_pred = pipe.predict(X_test)\n",
    "    acc = accuracy_score(y_test.values.ravel(), y_pred)\n",
    "    prec = precision_score(y_test.values.ravel(), y_pred, average='weighted', zero_division=0)\n",
    "    rec = recall_score(y_test.values.ravel(), y_pred, average='weighted', zero_division=0)\n",
    "    f1 = f1_score(y_test.values.ravel(), y_pred, average='weighted', zero_division=0)\n",
    "    \n",
    "    mlflow.log_metrics({\n",
    "        \"accuracy\": acc,\n",
    "        \"precision\": prec,\n",
    "        \"recall\": rec,\n",
    "        \"f1\": f1\n",
    "    })\n",
    "    \n",
    "    if y_all.nunique() == 2 and hasattr(pipe, \"predict_proba\"):\n",
    "        try:\n",
    "            auc = roc_auc_score(y_test.values.ravel(), pipe.predict_proba(X_test)[:, 1])\n",
    "            mlflow.log_metric(\"roc_auc\", auc)\n",
    "        except Exception:\n",
    "            pass\n",
    "\n",
    "    # Step 1: Log model artifact (do not register yet)\n",
    "    artifact_path = \"model\"\n",
    "    mlflow.sklearn.log_model(sk_model=pipe, artifact_path=artifact_path)\n",
    "    \n",
    "    # Step 2: Explicitly register the model\n",
    "    model_uri = f\"runs:/{run.info.run_id}/{artifact_path}\"\n",
    "    result = mlflow.register_model(model_uri=model_uri, name=\"team5_BoTNeTIoT_Model\")\n",
    "    \n",
    "    print(f\"✅ Model registered successfully under name: {result.name}, version: {result.version}\")\n",
    "\n"
   ]
  }
 ],
 "metadata": {
  "kaggle": {
   "accelerator": "none",
   "dataSources": [
    {
     "datasetId": 1303049,
     "sourceId": 2260912,
     "sourceType": "datasetVersion"
    }
   ],
   "dockerImageVersionId": 30822,
   "isGpuEnabled": false,
   "isInternetEnabled": true,
   "language": "python",
   "sourceType": "notebook"
  },
  "kernelspec": {
   "display_name": "tokensim",
   "language": "python",
   "name": "python3"
  },
  "language_info": {
   "codemirror_mode": {
    "name": "ipython",
    "version": 3
   },
   "file_extension": ".py",
   "mimetype": "text/x-python",
   "name": "python",
   "nbconvert_exporter": "python",
   "pygments_lexer": "ipython3",
   "version": "3.11.13"
  },
  "papermill": {
   "default_parameters": {},
   "duration": 189.773666,
   "end_time": "2025-01-10T13:55:13.971326",
   "environment_variables": {},
   "exception": null,
   "input_path": "__notebook__.ipynb",
   "output_path": "__notebook__.ipynb",
   "parameters": {},
   "start_time": "2025-01-10T13:52:04.197660",
   "version": "2.6.0"
  }
 },
 "nbformat": 4,
 "nbformat_minor": 5
}
