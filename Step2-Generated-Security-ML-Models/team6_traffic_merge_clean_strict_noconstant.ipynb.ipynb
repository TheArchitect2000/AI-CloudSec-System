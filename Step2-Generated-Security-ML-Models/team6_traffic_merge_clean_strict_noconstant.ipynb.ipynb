{
 "cells": [
  {
   "cell_type": "code",
   "execution_count": null,
   "metadata": {
    "id": "jBFT1GwipGvT"
   },
   "outputs": [],
   "source": [
    "import pandas as pd\n",
    "\n"
   ]
  },
  {
   "cell_type": "code",
   "execution_count": null,
   "metadata": {
    "colab": {
     "base_uri": "https://localhost:8080/"
    },
    "id": "BHI8dy6mryLy",
    "outputId": "ec9bb5d2-2c26-4b80-e6d8-1e050eb62f33"
   },
   "outputs": [],
   "source": [
    "!wget https://media.githubusercontent.com/media/TheArchitect2000/AI-CloudSec-System/refs/heads/team11/models/datasets/team_11_TON_IoT_unsw_edu_au_cleaned.csv\n"
   ]
  },
  {
   "cell_type": "code",
   "execution_count": null,
   "metadata": {
    "colab": {
     "base_uri": "https://localhost:8080/"
    },
    "id": "bdmqkzUvrm4y",
    "outputId": "d4e70da5-b64b-4d11-e9e4-81bc034aeb20"
   },
   "outputs": [],
   "source": [
    "df=pd.read_csv('team_11_TON_IoT_unsw_edu_au_cleaned.csv')"
   ]
  },
  {
   "cell_type": "code",
   "execution_count": null,
   "metadata": {
    "colab": {
     "base_uri": "https://localhost:8080/",
     "height": 243
    },
    "id": "HgcmuLLzsDeR",
    "outputId": "dca60aad-6edf-43e5-f021-593e67f205e6"
   },
   "outputs": [],
   "source": [
    "df.head()"
   ]
  },
  {
   "cell_type": "code",
   "execution_count": null,
   "metadata": {
    "colab": {
     "base_uri": "https://localhost:8080/",
     "height": 461
    },
    "id": "fnwdBTcIsP6x",
    "outputId": "d45ddc82-11a2-4629-c5ae-d60777f06e3f"
   },
   "outputs": [],
   "source": [
    "df"
   ]
  },
  {
   "cell_type": "code",
   "execution_count": null,
   "metadata": {
    "colab": {
     "base_uri": "https://localhost:8080/"
    },
    "id": "TclrOuSQsTGQ",
    "outputId": "82895f0e-0088-4927-8eb4-bc49dddb7b5c"
   },
   "outputs": [],
   "source": [
    "df.columns"
   ]
  },
  {
   "cell_type": "code",
   "execution_count": null,
   "metadata": {
    "colab": {
     "base_uri": "https://localhost:8080/",
     "height": 204
    },
    "id": "y1FdLqXpsv1x",
    "outputId": "099d6a9e-2541-4a7d-f23e-27457a91a081"
   },
   "outputs": [],
   "source": [
    "df.info"
   ]
  },
  {
   "cell_type": "code",
   "execution_count": null,
   "metadata": {
    "colab": {
     "base_uri": "https://localhost:8080/"
    },
    "id": "_a7ZYqjSs0vG",
    "outputId": "9b763286-8b77-49ef-8cdc-a53a1596d266"
   },
   "outputs": [],
   "source": [
    "df.info()"
   ]
  },
  {
   "cell_type": "code",
   "execution_count": null,
   "metadata": {
    "colab": {
     "base_uri": "https://localhost:8080/"
    },
    "id": "Nsq9dKfRs9bM",
    "outputId": "a785df30-4838-4aaa-a587-cac80b98bc8d"
   },
   "outputs": [],
   "source": [
    "import pandas as pd\n",
    "\n",
    "# Assuming df is your DataFrame\n",
    "\n",
    "# Count number of 0s in each column\n",
    "zero_counts_per_column = (df == 0).sum(axis=0)\n",
    "\n",
    "print(zero_counts_per_column)\n"
   ]
  },
  {
   "cell_type": "code",
   "execution_count": null,
   "metadata": {
    "colab": {
     "base_uri": "https://localhost:8080/"
    },
    "id": "AUDHkDvmz6EA",
    "outputId": "41143b0c-da9e-49e6-d54a-30510be3f316"
   },
   "outputs": [],
   "source": [
    "!wget https://media.githubusercontent.com/media/TheArchitect2000/AI-CloudSec-System/refs/heads/team11/models/datasets/team_11_BotNeTIoT_test.csv\n",
    "!wget https://media.githubusercontent.com/media/TheArchitect2000/AI-CloudSec-System/refs/heads/team11/models/datasets/team_11_BotNeTIoT_train.csv\n"
   ]
  },
  {
   "cell_type": "code",
   "execution_count": null,
   "metadata": {
    "colab": {
     "base_uri": "https://localhost:8080/"
    },
    "id": "O5TjFO2a1lIy",
    "outputId": "4a7557f1-3ed6-4100-9347-51579fee56e2"
   },
   "outputs": [],
   "source": [
    "import pandas as pd\n",
    "from sklearn.preprocessing import LabelEncoder, StandardScaler\n",
    "from sklearn.metrics import classification_report, confusion_matrix, accuracy_score\n",
    "from sklearn.ensemble import RandomForestClassifier\n",
    "\n",
    "# -------------------\n",
    "# Load train and test data\n",
    "# -------------------\n",
    "train_df = pd.read_csv(\"team_11_BotNeTIoT_train.csv\")\n",
    "test_df = pd.read_csv(\"team_11_BotNeTIoT_test.csv.1\")\n",
    "\n",
    "print(\"Train shape:\", train_df.shape)\n",
    "print(\"Test shape:\", test_df.shape)\n",
    "print(\"Columns:\", train_df.columns)\n",
    "\n",
    "# -------------------\n",
    "# Preprocessing\n",
    "# -------------------\n",
    "\n",
    "# Drop irrelevant columns (IDs, IPs, timestamps if present)\n",
    "drop_cols = [\"Unnamed: 0\", \"ts\", \"src_ip\", \"dst_ip\"]\n",
    "train_df = train_df.drop(columns=[c for c in drop_cols if c in train_df.columns])\n",
    "test_df = test_df.drop(columns=[c for c in drop_cols if c in test_df.columns])\n",
    "\n",
    "# Convert object columns (like src_bytes) to numeric\n",
    "for col in train_df.columns:\n",
    "    if train_df[col].dtype == \"object\":\n",
    "        train_df[col] = pd.to_numeric(train_df[col], errors=\"coerce\")\n",
    "        test_df[col] = pd.to_numeric(test_df[col], errors=\"coerce\")\n",
    "\n",
    "# Fill missing values with 0\n",
    "train_df = train_df.fillna(0)\n",
    "test_df = test_df.fillna(0)\n",
    "\n",
    "# -------------------\n",
    "# Target column (multi-class)\n",
    "# -------------------\n",
    "# Change \"type\" → if your labels are in \"label\" instead\n",
    "target_col = \"label\"\n",
    "\n",
    "# Encode target labels\n",
    "le = LabelEncoder()\n",
    "# Combine train and test labels for fitting the encoder\n",
    "all_labels = pd.concat([train_df[target_col], test_df[target_col]], axis=0)\n",
    "le.fit(all_labels)\n",
    "\n",
    "train_df[target_col] = le.transform(train_df[target_col])\n",
    "test_df[target_col] = le.transform(test_df[target_col])\n",
    "\n",
    "# Split features and target\n",
    "X_train = train_df.drop(columns=[target_col])\n",
    "y_train = train_df[target_col]\n",
    "\n",
    "X_test = test_df.drop(columns=[target_col])\n",
    "y_test = test_df[target_col]\n",
    "\n",
    "# -------------------\n",
    "# Scale numeric features\n",
    "# -------------------\n",
    "scaler = StandardScaler()\n",
    "X_train = scaler.fit_transform(X_train)\n",
    "X_test = scaler.transform(X_test)\n",
    "\n",
    "# -------------------\n",
    "# Train Model\n",
    "# -------------------\n",
    "model = RandomForestClassifier(n_estimators=200, random_state=42, n_jobs=-1)\n",
    "model.fit(X_train, y_train)\n",
    "\n",
    "# -------------------\n",
    "# Evaluation\n",
    "# -------------------\n",
    "y_pred = model.predict(X_test)\n",
    "\n",
    "print(\"✅ Accuracy:\", accuracy_score(y_test, y_pred))\n",
    "print(\"\\n📊 Classification Report:\\n\", classification_report(y_test, y_pred, target_names=le.classes_))\n",
    "print(\"\\n🔢 Confusion Matrix:\\n\", confusion_matrix(y_test, y_pred))"
   ]
  },
  {
   "cell_type": "code",
   "execution_count": null,
   "metadata": {
    "colab": {
     "base_uri": "https://localhost:8080/"
    },
    "id": "EMqJ32RX5uMs",
    "outputId": "d17a4f55-8009-4ab7-fe81-fb85ca9f1a4e"
   },
   "outputs": [],
   "source": [
    "!wget https://media.githubusercontent.com/media/TheArchitect2000/AI-CloudSec-System/refs/heads/team11/models/datasets/traffic_merged_cleaned_strict_noconstant.csv"
   ]
  },
  {
   "cell_type": "code",
   "execution_count": null,
   "metadata": {
    "colab": {
     "base_uri": "https://localhost:8080/",
     "height": 808
    },
    "id": "3gNOZjOu5r-V",
    "outputId": "fc9784a8-f351-46f4-eea9-7dbda3f2e491"
   },
   "outputs": [],
   "source": [
    "import pandas as pd\n",
    "from sklearn.model_selection import train_test_split\n",
    "from sklearn.preprocessing import StandardScaler\n",
    "from sklearn.ensemble import RandomForestClassifier\n",
    "from sklearn.metrics import accuracy_score, classification_report, confusion_matrix\n",
    "\n",
    "# ----------------------\n",
    "# Load dataset\n",
    "# ----------------------\n",
    "df = pd.read_csv(\"traffic_merged_cleaned_strict_noconstant.csv\")\n",
    "\n",
    "print(\"Dataset shape:\", df.shape)\n",
    "print(\"Columns:\", df.columns)\n",
    "\n",
    "# ----------------------\n",
    "# Features & Target\n",
    "# ----------------------\n",
    "target_col = \"label\"\n",
    "\n",
    "X = df.drop(columns=[target_col])\n",
    "y = df[target_col]\n",
    "\n",
    "# ----------------------\n",
    "# Handle categorical columns if present\n",
    "# ----------------------\n",
    "# Convert non-numeric columns into numeric (Label Encoding)\n",
    "for col in X.columns:\n",
    "    if X[col].dtype == \"object\":\n",
    "        X[col] = pd.factorize(X[col])[0]\n",
    "\n",
    "# ----------------------\n",
    "# Train-test split\n",
    "# ----------------------\n",
    "X_train, X_test, y_train, y_test = train_test_split(\n",
    "    X, y, test_size=0.2, random_state=42, stratify=y\n",
    ")\n",
    "\n",
    "# ----------------------\n",
    "# Feature scaling\n",
    "# ----------------------\n",
    "scaler = StandardScaler()\n",
    "X_train = scaler.fit_transform(X_train)\n",
    "X_test = scaler.transform(X_test)\n",
    "\n",
    "# ----------------------\n",
    "# Random Forest Model\n",
    "# ----------------------\n",
    "rf_model = RandomForestClassifier(\n",
    "    n_estimators=200,\n",
    "    random_state=42,\n",
    "    n_jobs=-1,\n",
    "    class_weight=\"balanced\"   # handles imbalance if attacks >> benign\n",
    ")\n",
    "rf_model.fit(X_train, y_train)\n",
    "\n",
    "# ----------------------\n",
    "# Predictions & Evaluation\n",
    "# ----------------------\n",
    "y_pred = rf_model.predict(X_test)\n",
    "\n",
    "print(\"✅ Accuracy:\", accuracy_score(y_test, y_pred))\n",
    "print(\"\\n📊 Classification Report:\\n\", classification_report(y_test, y_pred))\n",
    "print(\"\\n🔢 Confusion Matrix:\\n\", confusion_matrix(y_test, y_pred))\n"
   ]
  },
  {
   "cell_type": "code",
   "execution_count": null,
   "metadata": {
    "colab": {
     "base_uri": "https://localhost:8080/",
     "height": 826
    },
    "id": "YGjtSidn53cC",
    "outputId": "3e2d05a8-f702-4e3f-849a-8b482e4036ee"
   },
   "outputs": [],
   "source": [
    "df"
   ]
  },
  {
   "cell_type": "code",
   "execution_count": null,
   "metadata": {
    "colab": {
     "base_uri": "https://localhost:8080/"
    },
    "id": "WTej97Np6NL-",
    "outputId": "a3c5c9f7-f2e3-40c6-caab-268633502d2e"
   },
   "outputs": [],
   "source": [
    "df.info()"
   ]
  },
  {
   "cell_type": "code",
   "execution_count": null,
   "metadata": {
    "colab": {
     "base_uri": "https://localhost:8080/",
     "height": 808
    },
    "id": "Gvs-YJOs6ULQ",
    "outputId": "12d0091a-e772-4b1b-af4e-7919238ce972"
   },
   "outputs": [],
   "source": [
    "import pandas as pd\n",
    "from sklearn.model_selection import train_test_split\n",
    "from sklearn.preprocessing import LabelEncoder, StandardScaler\n",
    "from sklearn.ensemble import RandomForestClassifier\n",
    "from sklearn.metrics import accuracy_score, classification_report, confusion_matrix\n",
    "\n",
    "# ----------------------\n",
    "# Load dataset\n",
    "# ----------------------\n",
    "df = pd.read_csv(\"traffic_merged_cleaned_strict_noconstant.csv\")\n",
    "\n",
    "print(\"Dataset shape:\", df.shape)\n",
    "print(\"Columns:\", df.columns)\n",
    "\n",
    "# ----------------------\n",
    "# Features & Target\n",
    "# ----------------------\n",
    "target_col = \"Label\"\n",
    "\n",
    "X = df.drop(columns=[target_col])\n",
    "y = df[target_col]\n",
    "\n",
    "# Encode target labels (e.g., BENIGN -> 0, ATTACK -> 1)\n",
    "le = LabelEncoder()\n",
    "y = le.fit_transform(y)\n",
    "\n",
    "# ----------------------\n",
    "# Drop identifiers (not useful for prediction)\n",
    "drop_cols = [\"Flow ID\", \"Source IP\", \"Destination IP\", \"Timestamp\"]\n",
    "X = X.drop(columns=drop_cols, errors=\"ignore\")\n",
    "\n",
    "# Encode non-numeric columns in X (e.g., Protocol if categorical)\n",
    "for col in X.columns:\n",
    "    if X[col].dtype == \"object\":\n",
    "        X[col] = pd.factorize(X[col])[0]\n",
    "\n",
    "# ----------------------\n",
    "# Train-test split\n",
    "# ----------------------\n",
    "X_train, X_test, y_train, y_test = train_test_split(\n",
    "    X, y, test_size=0.2, random_state=42, stratify=y\n",
    ")\n",
    "\n",
    "# ----------------------\n",
    "# Feature scaling\n",
    "# ----------------------\n",
    "scaler = StandardScaler()\n",
    "X_train = scaler.fit_transform(X_train)\n",
    "X_test = scaler.transform(X_test)\n",
    "\n",
    "# ----------------------\n",
    "# Random Forest Model\n",
    "# ----------------------\n",
    "rf_model = RandomForestClassifier(\n",
    "    n_estimators=200,\n",
    "    random_state=42,\n",
    "    n_jobs=-1,\n",
    "    class_weight=\"balanced\"\n",
    ")\n",
    "rf_model.fit(X_train, y_train)\n",
    "\n",
    "# ----------------------\n",
    "# Predictions & Evaluation\n",
    "# ----------------------\n",
    "y_pred = rf_model.predict(X_test)\n",
    "\n",
    "print(\"✅ Accuracy:\", accuracy_score(y_test, y_pred))\n",
    "print(\"\\n📊 Classification Report:\\n\", classification_report(y_test, y_pred, target_names=le.classes_))\n",
    "print(\"\\n🔢 Confusion Matrix:\\n\", confusion_matrix(y_test, y_pred))\n"
   ]
  },
  {
   "cell_type": "code",
   "execution_count": null,
   "metadata": {
    "colab": {
     "base_uri": "https://localhost:8080/",
     "height": 1000
    },
    "id": "_q89_9Dt7F9T",
    "outputId": "a7554eda-cce2-40e1-e9bc-4bba2644e1fb"
   },
   "outputs": [],
   "source": [
    "import pandas as pd\n",
    "from sklearn.model_selection import train_test_split\n",
    "from sklearn.ensemble import RandomForestClassifier\n",
    "from sklearn.metrics import classification_report, accuracy_score\n",
    "\n",
    "# ----------------------\n",
    "# Load dataset (local file)\n",
    "# ----------------------\n",
    "df = pd.read_csv(\"traffic_merged_cleaned_strict_noconstant.csv\")\n",
    "\n",
    "# Inspect dataset\n",
    "print(\"Columns:\", df.columns)\n",
    "print(\"Shape:\", df.shape)\n",
    "\n",
    "# ----------------------\n",
    "# Features & Target\n",
    "# ----------------------\n",
    "target_col = \"Label\"\n",
    "\n",
    "if target_col not in df.columns:\n",
    "    raise ValueError(f\"Target column '{target_col}' not found. Available: {df.columns}\")\n",
    "\n",
    "X = df.drop(columns=[target_col])\n",
    "y = df[target_col]\n",
    "\n",
    "# ----------------------\n",
    "# Train-test split (NO stratify to avoid error)\n",
    "# ----------------------\n",
    "X_train, X_test, y_train, y_test = train_test_split(\n",
    "    X, y, test_size=0.2, random_state=42\n",
    ")\n",
    "\n",
    "# ----------------------\n",
    "# Train Random Forest\n",
    "# ----------------------\n",
    "rf = RandomForestClassifier(\n",
    "    n_estimators=100,\n",
    "    random_state=42,\n",
    "    n_jobs=-1\n",
    ")\n",
    "rf.fit(X_train, y_train)\n",
    "\n",
    "# ----------------------\n",
    "# Evaluate\n",
    "# ----------------------\n",
    "y_pred = rf.predict(X_test)\n",
    "\n",
    "print(\"\\nAccuracy:\", accuracy_score(y_test, y_pred))\n",
    "print(\"\\nClassification Report:\\n\", classification_report(y_test, y_pred))\n"
   ]
  },
  {
   "cell_type": "code",
   "execution_count": null,
   "metadata": {
    "colab": {
     "base_uri": "https://localhost:8080/",
     "height": 1000
    },
    "id": "UzPBx3tG7Gi8",
    "outputId": "999de505-bf91-4dd1-d8ce-ea9f3286d37a"
   },
   "outputs": [],
   "source": [
    "import pandas as pd\n",
    "from sklearn.model_selection import train_test_split\n",
    "from sklearn.ensemble import RandomForestClassifier\n",
    "from sklearn.metrics import classification_report, accuracy_score, confusion_matrix\n",
    "import seaborn as sns\n",
    "import matplotlib.pyplot as plt\n",
    "\n",
    "# ----------------------\n",
    "# Load dataset\n",
    "# ----------------------\n",
    "df = pd.read_csv(\"traffic_merged_cleaned_strict_noconstant.csv\")\n",
    "\n",
    "# ----------------------\n",
    "# Target & Features\n",
    "# ----------------------\n",
    "target_col = \"Label\"  # capital L\n",
    "X = df.drop(columns=[target_col])\n",
    "y = df[target_col]\n",
    "\n",
    "# ----------------------\n",
    "# Drop identifier columns\n",
    "# ----------------------\n",
    "X = X.drop(columns=[\"Flow ID\", \"Source IP\", \"Destination IP\", \"Timestamp\"], errors=\"ignore\")\n",
    "\n",
    "# ----------------------\n",
    "# Convert object columns to numeric\n",
    "# ----------------------\n",
    "for col in X.columns:\n",
    "    if X[col].dtype == \"object\":\n",
    "        X[col] = pd.factorize(X[col])[0]\n",
    "\n",
    "# ----------------------\n",
    "# Train-test split\n",
    "# ----------------------\n",
    "X_train, X_test, y_train, y_test = train_test_split(\n",
    "    X, y, test_size=0.2, random_state=42\n",
    ")\n",
    "\n",
    "# ----------------------\n",
    "# Train Random Forest\n",
    "# ----------------------\n",
    "rf = RandomForestClassifier(\n",
    "    n_estimators=100,\n",
    "    random_state=42,\n",
    "    n_jobs=-1\n",
    ")\n",
    "rf.fit(X_train, y_train)\n",
    "\n",
    "# ----------------------\n",
    "# Predictions & Evaluation\n",
    "# ----------------------\n",
    "y_pred = rf.predict(X_test)\n",
    "\n",
    "print(\"\\nAccuracy:\", accuracy_score(y_test, y_pred))\n",
    "print(\"\\nClassification Report:\\n\", classification_report(y_test, y_pred))\n",
    "\n",
    "# ----------------------\n",
    "# Confusion Matrix\n",
    "# ----------------------\n",
    "cm = confusion_matrix(y_test, y_pred, labels=rf.classes_)\n",
    "plt.figure(figsize=(12,8))\n",
    "sns.heatmap(cm, annot=True, fmt=\"d\", cmap=\"Blues\", xticklabels=rf.classes_, yticklabels=rf.classes_)\n",
    "plt.xlabel(\"Predicted\")\n",
    "plt.ylabel(\"Actual\")\n",
    "plt.title(\"Confusion Matrix\")\n",
    "plt.show()\n"
   ]
  },
  {
   "cell_type": "code",
   "execution_count": null,
   "metadata": {
    "id": "RgOk7VkT7qGN"
   },
   "outputs": [],
   "source": []
  }
 ],
 "metadata": {
  "colab": {
   "provenance": []
  },
  "kernelspec": {
   "display_name": "Python 3",
   "name": "python3"
  },
  "language_info": {
   "name": "python"
  }
 },
 "nbformat": 4,
 "nbformat_minor": 0
}
