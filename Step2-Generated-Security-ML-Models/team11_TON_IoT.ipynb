{
 "cells": [
  {
   "cell_type": "markdown",
   "metadata": {},
   "source": [
    "# TON-IoT Review\n",
    "________\n"
   ]
  },
  {
   "cell_type": "markdown",
   "metadata": {},
   "source": [
    "## Importing modules"
   ]
  },
  {
   "cell_type": "code",
   "execution_count": null,
   "metadata": {
    "id": "3MtLIQTVr_iv"
   },
   "outputs": [],
   "source": [
    "import pandas as pd\n",
    "import numpy as np\n",
    "import matplotlib.pyplot as plt\n",
    "import seaborn as sns\n",
    "from sklearn.preprocessing import MinMaxScaler\n",
    "from imblearn.over_sampling import SMOTE\n",
    "from sklearn.model_selection import train_test_split"
   ]
  },
  {
   "cell_type": "markdown",
   "metadata": {},
   "source": [
    "## Loading dataset"
   ]
  },
  {
   "cell_type": "code",
   "execution_count": null,
   "metadata": {
    "colab": {
     "base_uri": "https://localhost:8080/",
     "height": 1000
    },
    "id": "3BbaUIY-sksU",
    "outputId": "19c9a9fe-4a3f-4edb-815e-40ffe40cf356"
   },
   "outputs": [],
   "source": [
    "df = pd.read_csv(\"../Step1-Datasets-Feature-Engineering/team11_TON_IoT_unsw_edu_au_cleaned.csv\")\n",
    "\n",
    "if len(df.columns) == 1 and \"github.com\" in df.columns[0]:\n",
    "    raise ValueError(\"You have downloaded an LFS pointer, and not the actual file.\\n\" \\\n",
    "    \"Please download team11_TON_IoT_unsw_edu_au_cleaned.csv directly from the git repo.\\n\" \\\n",
    "    \"Place this download into the 'Step1-Datasets-Feature-Engineering' folder and try again.\\n\\n\")\n",
    "\n",
    "# Quick look at data\n",
    "display(df.head())\n",
    "display(df.info())\n",
    "display(df.describe())"
   ]
  },
  {
   "cell_type": "markdown",
   "metadata": {},
   "source": [
    "## Data cleanup"
   ]
  },
  {
   "cell_type": "markdown",
   "metadata": {},
   "source": [
    "### Drop non-required data"
   ]
  },
  {
   "cell_type": "code",
   "execution_count": null,
   "metadata": {},
   "outputs": [],
   "source": [
    "# dropping columns that are either empty or not required\n",
    "df = df.drop(columns=[\"src_ip\", \"dst_ip\", \"label\"])"
   ]
  },
  {
   "cell_type": "markdown",
   "metadata": {},
   "source": [
    "### Drop long connection durations"
   ]
  },
  {
   "cell_type": "code",
   "execution_count": null,
   "metadata": {},
   "outputs": [],
   "source": [
    "# duriations of connections should last no more than 1000 seconds\n",
    "df = df.drop(index=df[df[\"duration\"] > 1000].index)"
   ]
  },
  {
   "cell_type": "markdown",
   "metadata": {},
   "source": [
    "### Optimizations"
   ]
  },
  {
   "cell_type": "code",
   "execution_count": null,
   "metadata": {},
   "outputs": [],
   "source": [
    "# attack type as numerical category\n",
    "type_unique = list(df[\"type\"].unique())\n",
    "df[\"type\"] = df[\"type\"].apply(lambda x : type_unique.index(x))"
   ]
  },
  {
   "cell_type": "code",
   "execution_count": null,
   "metadata": {},
   "outputs": [],
   "source": [
    "# converting connection states to int\n",
    "conn_state_unique = list(df[\"conn_state\"].unique())\n",
    "df[\"conn_state\"] = df[\"conn_state\"].apply(lambda x : conn_state_unique.index(x))"
   ]
  },
  {
   "cell_type": "code",
   "execution_count": null,
   "metadata": {},
   "outputs": [],
   "source": [
    "# converting protocols to int\n",
    "proto_unique = list(df[\"proto\"].unique())\n",
    "df[\"proto\"] = df[\"proto\"].apply(lambda x : proto_unique.index(x))"
   ]
  },
  {
   "cell_type": "code",
   "execution_count": null,
   "metadata": {},
   "outputs": [],
   "source": [
    "# sum total bytes\n",
    "df['total_bytes'] = df['src_ip_bytes'] + df['src_ip_bytes'] + df['src_bytes'] + df['dst_bytes']"
   ]
  },
  {
   "cell_type": "code",
   "execution_count": null,
   "metadata": {
    "id": "iWhBGAsysobl"
   },
   "outputs": [],
   "source": [
    "# fill na with 0.\n",
    "df.fillna(0, inplace=True)  # or df.dropna()"
   ]
  },
  {
   "cell_type": "code",
   "execution_count": null,
   "metadata": {
    "colab": {
     "base_uri": "https://localhost:8080/"
    },
    "id": "W1gkFwJvs3xP",
    "outputId": "c1fa3793-df6b-4df3-dfb3-59fe580f1c70"
   },
   "outputs": [],
   "source": [
    "# Select only numeric columns for SMOTE\n",
    "\n",
    "X = df.drop('type', axis=1)\n",
    "y = df['type']\n",
    "\n",
    "X_numeric = X.select_dtypes(include=np.number)\n",
    "\n",
    "smote = SMOTE(random_state=42)\n",
    "X_res, y_res = smote.fit_resample(X_numeric, y)\n",
    "\n",
    "print(\"Before:\", y.value_counts())\n",
    "print(\"After:\", pd.Series(y_res).value_counts())"
   ]
  },
  {
   "cell_type": "markdown",
   "metadata": {},
   "source": [
    "## Transformation and PCA"
   ]
  },
  {
   "cell_type": "code",
   "execution_count": null,
   "metadata": {
    "id": "nhhm7ytqtNkM"
   },
   "outputs": [],
   "source": [
    "# ue min max\n",
    "scaler = MinMaxScaler()\n",
    "X_scaled = scaler.fit_transform(X_res)"
   ]
  },
  {
   "cell_type": "code",
   "execution_count": null,
   "metadata": {
    "colab": {
     "base_uri": "https://localhost:8080/",
     "height": 853
    },
    "id": "iF28HDNKtbSS",
    "outputId": "b236646b-4ade-42c0-fdac-df000adb9896"
   },
   "outputs": [],
   "source": [
    "# correlation heatmap\n",
    "plt.figure(figsize=(20,20))\n",
    "sns.heatmap(pd.DataFrame(X_scaled).corr(), cmap='coolwarm', annot=False)\n",
    "plt.xticks(list(range(0,len(X_res.columns))),X_res.columns)\n",
    "plt.yticks(list(range(0,len(X_res.columns))),X_res.columns)\n",
    "plt.title('Feature Correlation Heatmap')\n",
    "plt.show()\n"
   ]
  },
  {
   "cell_type": "code",
   "execution_count": null,
   "metadata": {
    "colab": {
     "base_uri": "https://localhost:8080/",
     "height": 545
    },
    "id": "AbsPPKLbtegl",
    "outputId": "42ba0856-d0c0-4bd3-d738-5406a5cc41d7"
   },
   "outputs": [],
   "source": [
    "# feature importance with rf\n",
    "from sklearn.ensemble import RandomForestClassifier\n",
    "\n",
    "rf = RandomForestClassifier()\n",
    "rf.fit(X_scaled, y_res)\n",
    "importances = rf.feature_importances_\n",
    "\n",
    "plt.figure(figsize=(18,6))\n",
    "plt.bar(range(len(importances)), importances)\n",
    "plt.title('Feature Importance')\n",
    "plt.xticks(list(range(0,len(X_res.columns))),X_res.columns)\n",
    "plt.show()\n"
   ]
  },
  {
   "cell_type": "markdown",
   "metadata": {},
   "source": [
    "## Feature Engineering"
   ]
  },
  {
   "cell_type": "markdown",
   "metadata": {},
   "source": [
    "### Before"
   ]
  },
  {
   "cell_type": "code",
   "execution_count": null,
   "metadata": {
    "colab": {
     "base_uri": "https://localhost:8080/"
    },
    "id": "De27xvQathtQ",
    "outputId": "cba53a9b-99e0-4a23-e445-a43a4b6cfc82"
   },
   "outputs": [],
   "source": [
    "df.describe()"
   ]
  },
  {
   "cell_type": "markdown",
   "metadata": {},
   "source": [
    "### After"
   ]
  },
  {
   "cell_type": "code",
   "execution_count": null,
   "metadata": {},
   "outputs": [],
   "source": [
    "after = pd.DataFrame(X_scaled)\n",
    "after.columns = X_res.columns\n",
    "after.describe()"
   ]
  },
  {
   "cell_type": "markdown",
   "metadata": {},
   "source": [
    "# Export"
   ]
  },
  {
   "cell_type": "code",
   "execution_count": null,
   "metadata": {
    "id": "ejSjF_cftn_d"
   },
   "outputs": [],
   "source": [
    "# export data\n",
    "df_engineered = pd.DataFrame(X_scaled, columns=X_numeric.columns)\n",
    "\n",
    "X_train, X_test, y_train, y_test = train_test_split(df_engineered, y_res, test_size=0.2)\n"
   ]
  }
 ],
 "metadata": {
  "colab": {
   "provenance": []
  },
  "kernelspec": {
   "display_name": ".venv",
   "language": "python",
   "name": "python3"
  },
  "language_info": {
   "codemirror_mode": {
    "name": "ipython",
    "version": 3
   },
   "file_extension": ".py",
   "mimetype": "text/x-python",
   "name": "python",
   "nbconvert_exporter": "python",
   "pygments_lexer": "ipython3",
   "version": "3.13.7"
  }
 },
 "nbformat": 4,
 "nbformat_minor": 0
}
