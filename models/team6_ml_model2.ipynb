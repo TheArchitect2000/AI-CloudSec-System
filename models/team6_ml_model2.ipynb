{
 "cells": [
  {
   "cell_type": "code",
   "execution_count": null,
   "id": "0",
   "metadata": {},
   "outputs": [],
   "source": [
    "import pandas as pd\n",
    "from sklearn.model_selection import train_test_split\n",
    "from sklearn.metrics import (\n",
    "    accuracy_score, precision_score, recall_score, f1_score,\n",
    "    roc_auc_score, classification_report\n",
    ")\n",
    "from sklearn.linear_model import LogisticRegression\n",
    "from sklearn.ensemble import RandomForestClassifier\n",
    "from xgboost import XGBClassifier\n",
    "import matplotlib.pyplot as plt\n"
   ]
  },
  {
   "cell_type": "code",
   "execution_count": null,
   "id": "1",
   "metadata": {},
   "outputs": [],
   "source": [
    "# =====================\n",
    "# 1. Load dataset\n",
    "# =====================\n",
    "file_path = \"team_11_ton-iot-engineered_train.txt\"\n",
    "df = pd.read_csv(file_path)\n",
    "\n",
    "# Inspect\n",
    "print(\"Dataset shape:\", df.shape)\n",
    "df.head()\n"
   ]
  },
  {
   "cell_type": "code",
   "execution_count": null,
   "id": "2",
   "metadata": {},
   "outputs": [],
   "source": [
    "# =====================\n",
    "# 2. Prepare features and labels\n",
    "# =====================\n",
    "X = df.drop(columns=[\"label\"])   # features\n",
    "y = df[\"label\"]                  # target (0=normal, 1=attack)\n",
    "\n",
    "# Train/test split\n",
    "X_train, X_test, y_train, y_test = train_test_split(\n",
    "    X, y, test_size=0.2, random_state=42, stratify=y\n",
    ")\n",
    "\n",
    "print(\"Training set:\", X_train.shape, \"Test set:\", X_test.shape)\n"
   ]
  },
  {
   "cell_type": "code",
   "execution_count": null,
   "id": "3",
   "metadata": {},
   "outputs": [],
   "source": [
    "# =====================\n",
    "# 3. Train Models\n",
    "# =====================\n",
    "\n",
    "# Logistic Regression\n",
    "log_reg = LogisticRegression(max_iter=500, class_weight=\"balanced\")\n",
    "log_reg.fit(X_train, y_train)\n",
    "\n",
    "# Random Forest\n",
    "rf = RandomForestClassifier(n_estimators=200, random_state=42, class_weight=\"balanced\")\n",
    "rf.fit(X_train, y_train)\n",
    "\n",
    "# XGBoost\n",
    "xgb = XGBClassifier(\n",
    "    n_estimators=300,\n",
    "    learning_rate=0.1,\n",
    "    max_depth=6,\n",
    "    scale_pos_weight=len(y_train[y_train==0]) / len(y_train[y_train==1]),\n",
    "    eval_metric=\"logloss\",\n",
    "    random_state=42\n",
    ")\n",
    "\n",
    "xgb.fit(X_train, y_train)\n"
   ]
  },
  {
   "cell_type": "code",
   "execution_count": null,
   "id": "4",
   "metadata": {},
   "outputs": [],
   "source": [
    "# =====================\n",
    "# 4. Evaluation\n",
    "# =====================\n",
    "models = {\"Logistic Regression\": log_reg, \"Random Forest\": rf, \"XGBoost\": xgb}\n",
    "\n",
    "for name, model in models.items():\n",
    "    y_pred = model.predict(X_test)\n",
    "    y_prob = model.predict_proba(X_test)[:, 1]\n",
    "\n",
    "    print(\"\\n📌\", name)\n",
    "    print(\"Accuracy :\", accuracy_score(y_test, y_pred))\n",
    "    print(\"Precision:\", precision_score(y_test, y_pred))\n",
    "    print(\"Recall   :\", recall_score(y_test, y_pred))\n",
    "    print(\"F1-score :\", f1_score(y_test, y_pred))\n",
    "    print(\"ROC-AUC  :\", roc_auc_score(y_test, y_prob))\n",
    "    print(\"\\nClassification Report:\\n\", classification_report(y_test, y_pred))\n"
   ]
  },
  {
   "cell_type": "code",
   "execution_count": null,
   "id": "5",
   "metadata": {},
   "outputs": [],
   "source": [
    "# =====================\n",
    "# 5. Feature Importance (XGBoost)\n",
    "# =====================\n",
    "xgb_importance = xgb.feature_importances_\n",
    "\n",
    "plt.figure(figsize=(10,6))\n",
    "plt.bar(range(len(xgb_importance)), xgb_importance)\n",
    "plt.xticks(range(len(X.columns)), X.columns, rotation=90)\n",
    "plt.title(\"XGBoost Feature Importance\")\n",
    "plt.show()\n"
   ]
  }
 ],
 "metadata": {
  "kernelspec": {
   "display_name": "Python 3",
   "language": "python",
   "name": "python3"
  },
  "language_info": {
   "codemirror_mode": {
    "name": "ipython",
    "version": 3
   },
   "file_extension": ".py",
   "mimetype": "text/x-python",
   "name": "python",
   "nbconvert_exporter": "python",
   "pygments_lexer": "ipython3",
   "version": "3.13.7"
  }
 },
 "nbformat": 4,
 "nbformat_minor": 5
}
