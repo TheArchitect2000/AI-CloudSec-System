{
 "cells": [
  {
   "cell_type": "markdown",
   "id": "73c33ebb",
   "metadata": {},
   "source": [
    "# Creating Clean TON_IoT Data\n",
    "Source: https://research.unsw.edu.au/projects/toniot-datasets (See TON_IoT datasets/Processed_datasets/Processed_Network_dataset)\n",
    "\n",
    "\n",
    "\\- Team 11"
   ]
  },
  {
   "cell_type": "code",
   "execution_count": null,
   "id": "e4f1331f",
   "metadata": {},
   "outputs": [],
   "source": [
    "import pandas as pd"
   ]
  },
  {
   "cell_type": "markdown",
   "id": "ff55d480",
   "metadata": {},
   "source": [
    "## Read datasets\n",
    "\n",
    "When exporting is complete, please delete the Processed_Network_dataset folder. "
   ]
  },
  {
   "cell_type": "code",
   "execution_count": null,
   "id": "75743c19",
   "metadata": {},
   "outputs": [],
   "source": [
    "ds_array = []\n",
    "for i in range(1, 24):\n",
    "    try:\n",
    "        ds_array.append(pd.read_csv(f\"./raw/Processed_Network_dataset/Network_dataset_{i}.csv\"))\n",
    "    except FileNotFoundError as e:\n",
    "        print(\"To run this notebook, extract the contents of Processed Network dataset.zip to 'models/datasets/team11/raw'.\")\n",
    "        print(\"The notebook will now raise an error.\")\n",
    "        raise e\n"
   ]
  },
  {
   "cell_type": "markdown",
   "id": "712743da",
   "metadata": {},
   "source": [
    "# Analyzing data"
   ]
  },
  {
   "cell_type": "markdown",
   "id": "2208bbe5",
   "metadata": {},
   "source": [
    "## What's included."
   ]
  },
  {
   "cell_type": "code",
   "execution_count": null,
   "id": "d193c637",
   "metadata": {},
   "outputs": [],
   "source": [
    "what_i_use = []\n",
    "for i in range(0, 23):\n",
    "    for e in ds_array[i][\"type\"].unique():\n",
    "        if e not in what_i_use:\n",
    "            what_i_use.append(e)\n",
    "print(f\"What the data finds: {what_i_use}\")"
   ]
  },
  {
   "cell_type": "code",
   "execution_count": null,
   "id": "6e159de8",
   "metadata": {},
   "outputs": [],
   "source": [
    "for i in range(0, 23):\n",
    "    print(f\"Spreadsheet {i+1}\") \n",
    "    print(ds_array[i][\"type\"].value_counts(), end=\"\\n\\n\")"
   ]
  },
  {
   "cell_type": "markdown",
   "id": "66427f1d",
   "metadata": {},
   "source": [
    "# Data cleaning"
   ]
  },
  {
   "cell_type": "markdown",
   "id": "537c1683",
   "metadata": {},
   "source": [
    "## Removing unneccessary columns"
   ]
  },
  {
   "cell_type": "code",
   "execution_count": null,
   "id": "dfd66767",
   "metadata": {},
   "outputs": [],
   "source": [
    "for i in range(0, 23):\n",
    "    ds_array[i] = ds_array[i].drop(columns=[\n",
    "        \"service\",\"dns_query\", \"dns_AA\", \n",
    "        \"dns_RD\", \"dns_RA\", \"dns_rejected\", \n",
    "        \"ssl_version\", \"ssl_cipher\", \"ssl_resumed\", \n",
    "        \"ssl_established\", \"ssl_subject\", \"ssl_issuer\", \n",
    "        \"http_trans_depth\", \"http_method\", \"http_uri\", \n",
    "        \"http_version\", \"http_request_body_len\", \"http_response_body_len\", \n",
    "        \"http_status_code\", \"http_user_agent\", \"http_orig_mime_types\", \n",
    "        \"http_resp_mime_types\", \"weird_name\", \"weird_addl\", \n",
    "        \"weird_notice\", \"dns_qclass\",\n",
    "        \"dns_qtype\", \"dns_rcode\", \"http_referrer\", ])\n",
    "    if \"uid\" in ds_array[i]:\n",
    "        ds_array[i] = ds_array[i].drop(columns=[\"uid\"])"
   ]
  },
  {
   "cell_type": "markdown",
   "id": "564963ce",
   "metadata": {},
   "source": [
    "## Drop specific attack types: \n",
    "* password\n",
    "* xss\n",
    "* ransomware\n",
    "* backdoor\n",
    "* injection\n",
    "* mitm"
   ]
  },
  {
   "cell_type": "code",
   "execution_count": null,
   "id": "a281b495",
   "metadata": {},
   "outputs": [],
   "source": [
    "for i in range(0, 23):\n",
    "    ds_array[i]= ds_array[i][ds_array[i][\"type\"] != \"password\"]\n",
    "    ds_array[i]= ds_array[i][ds_array[i][\"type\"] != \"xss\"]\n",
    "    ds_array[i]= ds_array[i][ds_array[i][\"type\"] != \"ransomware\"]\n",
    "    ds_array[i]= ds_array[i][ds_array[i][\"type\"] != \"backdoor\"]\n",
    "    ds_array[i]= ds_array[i][ds_array[i][\"type\"] != \"injection\"]\n",
    "    ds_array[i]= ds_array[i][ds_array[i][\"type\"] != \"mitm\"]"
   ]
  },
  {
   "cell_type": "markdown",
   "id": "91b91ef0",
   "metadata": {},
   "source": [
    "### If you wish to see the individual cleaned CSV files:\n",
    "change the following line to True."
   ]
  },
  {
   "cell_type": "code",
   "execution_count": null,
   "id": "fa8874a0",
   "metadata": {},
   "outputs": [],
   "source": [
    "EXPORT_INDIVIDUAL_CSV = False"
   ]
  },
  {
   "cell_type": "code",
   "execution_count": null,
   "id": "50e14bb4",
   "metadata": {},
   "outputs": [],
   "source": [
    "if EXPORT_INDIVIDUAL_CSV == True:\n",
    "    for i in range(0, 23):\n",
    "        ds_array[i].to_csv(f\"./datasets/ds_{i+1}.csv\")"
   ]
  },
  {
   "cell_type": "markdown",
   "id": "0074c722",
   "metadata": {},
   "source": [
    "## Reduce dataset"
   ]
  },
  {
   "cell_type": "code",
   "execution_count": null,
   "id": "d2fac054",
   "metadata": {},
   "outputs": [],
   "source": [
    "newDS  = pd.concat(ds_array, ignore_index=True)"
   ]
  },
  {
   "cell_type": "markdown",
   "id": "409e3f10",
   "metadata": {},
   "source": [
    "### Drop unneeded scanning entries\n",
    "Decided by taking a fraction close to, but less than the amount of 'normal' entries."
   ]
  },
  {
   "cell_type": "code",
   "execution_count": null,
   "id": "58011c4a",
   "metadata": {},
   "outputs": [],
   "source": [
    "SCANNING_ENTRIES = 649106\n",
    "D_DOS_ENTRIES = 474231\n",
    "DOS_ENTRIES = 421916"
   ]
  },
  {
   "cell_type": "markdown",
   "id": "2abd35ba",
   "metadata": {},
   "source": [
    "### Drop unneeded scanning entries"
   ]
  },
  {
   "cell_type": "code",
   "execution_count": null,
   "id": "a1a5ad0b",
   "metadata": {},
   "outputs": [],
   "source": [
    "temp = newDS[newDS[\"type\"] == \"scanning\"]\n",
    "temp = temp.reset_index()\n",
    "\n",
    "newDS = newDS.drop(index=list(temp[-(len(temp)- SCANNING_ENTRIES):][\"index\"]))"
   ]
  },
  {
   "cell_type": "markdown",
   "id": "6ec34bd6",
   "metadata": {},
   "source": [
    "### Drop unneeded DDoS entries"
   ]
  },
  {
   "cell_type": "code",
   "execution_count": null,
   "id": "70865238",
   "metadata": {},
   "outputs": [],
   "source": [
    "temp = newDS[newDS[\"type\"] == \"ddos\"]\n",
    "temp = temp.reset_index()\n",
    "\n",
    "newDS = newDS.drop(index=list(temp[-(len(temp)- D_DOS_ENTRIES):][\"index\"]))"
   ]
  },
  {
   "cell_type": "markdown",
   "id": "0e9d35fc",
   "metadata": {},
   "source": [
    "### Drop unneeded DoS entries"
   ]
  },
  {
   "cell_type": "code",
   "execution_count": null,
   "id": "0d0a648c",
   "metadata": {},
   "outputs": [],
   "source": [
    "temp = newDS[newDS[\"type\"] == \"dos\"]\n",
    "temp = temp.reset_index()\n",
    "\n",
    "newDS = newDS.drop(index=list(temp[-(len(temp)- DOS_ENTRIES):][\"index\"]))"
   ]
  },
  {
   "cell_type": "code",
   "execution_count": null,
   "id": "506bc2d8",
   "metadata": {},
   "outputs": [],
   "source": [
    "newDS[\"type\"].value_counts()"
   ]
  },
  {
   "cell_type": "markdown",
   "id": "9ddc28d0",
   "metadata": {},
   "source": [
    "# Export"
   ]
  },
  {
   "cell_type": "code",
   "execution_count": null,
   "id": "c2b44cba",
   "metadata": {},
   "outputs": [],
   "source": [
    "newDS.to_csv(\"./Group_11_TON_IoT_unsw_edu_au_cleaned.csv\")"
   ]
  }
 ],
 "metadata": {
  "kernelspec": {
   "display_name": ".venv",
   "language": "python",
   "name": "python3"
  },
  "language_info": {
   "codemirror_mode": {
    "name": "ipython",
    "version": 3
   },
   "file_extension": ".py",
   "mimetype": "text/x-python",
   "name": "python",
   "nbconvert_exporter": "python",
   "pygments_lexer": "ipython3",
   "version": "3.13.5"
  }
 },
 "nbformat": 4,
 "nbformat_minor": 5
}
