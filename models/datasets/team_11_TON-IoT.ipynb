{
 "cells": [
  {
   "cell_type": "markdown",
   "metadata": {},
   "source": [
    "# TON-IoT Review\n",
    "________\n"
   ]
  },
  {
   "cell_type": "markdown",
   "metadata": {},
   "source": [
    "## Importing modules"
   ]
  },
  {
   "cell_type": "code",
   "execution_count": null,
   "metadata": {
    "id": "3MtLIQTVr_iv"
   },
   "outputs": [],
   "source": [
    "import pandas as pd\n",
    "import numpy as np\n",
    "import matplotlib.pyplot as plt\n",
    "import seaborn as sns\n",
    "from sklearn.preprocessing import MinMaxScaler\n",
    "from sklearn.decomposition import PCA\n",
    "from imblearn.over_sampling import SMOTE"
   ]
  },
  {
   "cell_type": "markdown",
   "metadata": {},
   "source": [
    "## Loading dataset"
   ]
  },
  {
   "cell_type": "code",
   "execution_count": null,
   "metadata": {
    "colab": {
     "base_uri": "https://localhost:8080/",
     "height": 1000
    },
    "id": "3BbaUIY-sksU",
    "outputId": "19c9a9fe-4a3f-4edb-815e-40ffe40cf356"
   },
   "outputs": [],
   "source": [
    "df = pd.read_csv(\"./team_11_ton-iot-raw.csv\")\n",
    "\n",
    "# Quick look at data\n",
    "display(df.head())\n",
    "display(df.info())\n",
    "display(df.describe())"
   ]
  },
  {
   "cell_type": "markdown",
   "metadata": {},
   "source": [
    "## Data cleanup"
   ]
  },
  {
   "cell_type": "markdown",
   "metadata": {},
   "source": [
    "### Drop non-required data"
   ]
  },
  {
   "cell_type": "code",
   "execution_count": null,
   "metadata": {},
   "outputs": [],
   "source": [
    "df = df.drop(columns=[\n",
    "    \"service\",\"dns_query\", \"dns_AA\", \n",
    "    \"dns_RD\", \"dns_RA\", \"dns_rejected\", \n",
    "    \"ssl_version\", \"ssl_cipher\", \"ssl_resumed\", \n",
    "    \"ssl_established\", \"ssl_subject\", \"ssl_issuer\", \n",
    "    \"http_trans_depth\", \"http_method\", \"http_uri\", \n",
    "    \"http_version\", \"http_request_body_len\", \"http_response_body_len\", \n",
    "    \"http_status_code\", \"http_user_agent\", \"http_orig_mime_types\", \n",
    "    \"http_resp_mime_types\", \"weird_name\", \"weird_addl\", \n",
    "    \"weird_notice\", \"type\", \"dns_qclass\",\n",
    "    \"dns_qtype\", \"dns_rcode\", \"ts\",\n",
    "    \"src_ip\", \"dst_ip\"])"
   ]
  },
  {
   "cell_type": "markdown",
   "metadata": {},
   "source": [
    "### Drop long connection durations"
   ]
  },
  {
   "cell_type": "code",
   "execution_count": null,
   "metadata": {},
   "outputs": [],
   "source": [
    "df = df.drop(index=df[df[\"duration\"] > 1000].index)"
   ]
  },
  {
   "cell_type": "markdown",
   "metadata": {},
   "source": [
    "### Optimizations"
   ]
  },
  {
   "cell_type": "code",
   "execution_count": null,
   "metadata": {},
   "outputs": [],
   "source": [
    "conn_state_unique = list(df[\"conn_state\"].unique())\n",
    "df[\"conn_state\"] = df[\"conn_state\"].apply(lambda x : conn_state_unique.index(x))"
   ]
  },
  {
   "cell_type": "code",
   "execution_count": null,
   "metadata": {},
   "outputs": [],
   "source": [
    "proto_unique = list(df[\"proto\"].unique())\n",
    "df[\"proto\"] = df[\"proto\"].apply(lambda x : proto_unique.index(x))"
   ]
  },
  {
   "cell_type": "code",
   "execution_count": null,
   "metadata": {},
   "outputs": [],
   "source": [
    "df.describe()"
   ]
  },
  {
   "cell_type": "code",
   "execution_count": null,
   "metadata": {},
   "outputs": [],
   "source": [
    "df['total_bytes'] = df['src_ip_bytes'] + df['src_ip_bytes'] + df['src_bytes'] + df['dst_bytes']"
   ]
  },
  {
   "cell_type": "code",
   "execution_count": null,
   "metadata": {
    "id": "iWhBGAsysobl"
   },
   "outputs": [],
   "source": [
    "df.fillna(0, inplace=True)  # or df.dropna()"
   ]
  },
  {
   "cell_type": "code",
   "execution_count": null,
   "metadata": {
    "colab": {
     "base_uri": "https://localhost:8080/"
    },
    "id": "W1gkFwJvs3xP",
    "outputId": "c1fa3793-df6b-4df3-dfb3-59fe580f1c70"
   },
   "outputs": [],
   "source": [
    "X = df.drop('label', axis=1)\n",
    "y = df['label']\n",
    "\n",
    "# Select only numeric columns for SMOTE\n",
    "X_numeric = X.select_dtypes(include=np.number)\n",
    "\n",
    "smote = SMOTE(random_state=42)\n",
    "X_res, y_res = smote.fit_resample(X_numeric, y)\n",
    "\n",
    "print(\"Before:\", y.value_counts())\n",
    "print(\"After:\", pd.Series(y_res).value_counts())"
   ]
  },
  {
   "cell_type": "markdown",
   "metadata": {},
   "source": [
    "## Rolling Average, Variance and Skew"
   ]
  },
  {
   "cell_type": "code",
   "execution_count": null,
   "metadata": {
    "id": "sB9rvvtAs8Cc"
   },
   "outputs": [],
   "source": [
    "# Example for a sliding window of 5 rows\n",
    "window_size = 3\n",
    "mean_rolling = df.drop(columns=[\"src_port\", \"dst_port\", \"proto\", \"label\"]).rolling(window=window_size).mean()\n",
    "var_rolling = df.drop(columns=[\"src_port\", \"dst_port\", \"proto\", \"label\"]).rolling(window=window_size).var()\n",
    "skew_rolling = df.drop(columns=[\"src_port\", \"dst_port\", \"proto\", \"label\"]).rolling(window=window_size).skew()\n"
   ]
  },
  {
   "cell_type": "code",
   "execution_count": null,
   "metadata": {},
   "outputs": [],
   "source": [
    "plt.plot(mean_rolling[\"duration\"])\n",
    "plt.title(\"Rolling duration mean\")\n",
    "plt.legend([\"duration\"])\n",
    "plt.ylabel(\"seconds (s)\")\n",
    "plt.show()"
   ]
  },
  {
   "cell_type": "code",
   "execution_count": null,
   "metadata": {},
   "outputs": [],
   "source": [
    "plt.plot(var_rolling[\"duration\"])\n",
    "plt.title(\"Rolling duration variance\")\n",
    "plt.legend([\"duration\"])\n",
    "plt.ylabel(\"seconds (s)\")\n",
    "plt.show()"
   ]
  },
  {
   "cell_type": "code",
   "execution_count": null,
   "metadata": {},
   "outputs": [],
   "source": [
    "plt.plot(skew_rolling.drop(index=[8])[\"duration\"])\n",
    "plt.title(\"Rolling duration skew\")\n",
    "plt.legend([\"duration\"])\n",
    "plt.ylabel(\"seconds (s)\")\n",
    "plt.show()"
   ]
  },
  {
   "cell_type": "markdown",
   "metadata": {},
   "source": [
    "## FFT magnitude"
   ]
  },
  {
   "cell_type": "code",
   "execution_count": null,
   "metadata": {
    "id": "vQXPd2cDtE_a"
   },
   "outputs": [],
   "source": [
    "from scipy.fft import fft\n",
    "\n",
    "# Example: compute FFT magnitude\n",
    "plt.plot(np.abs(fft(df['total_bytes'].values)))\n",
    "plt.title(\"FFT magnitude of total bytes\")\n",
    "plt.legend([\"total bytes\"])\n",
    "plt.show"
   ]
  },
  {
   "cell_type": "markdown",
   "metadata": {},
   "source": [
    "## Transformation and PCA"
   ]
  },
  {
   "cell_type": "code",
   "execution_count": null,
   "metadata": {
    "id": "nhhm7ytqtNkM"
   },
   "outputs": [],
   "source": [
    "scaler = MinMaxScaler()\n",
    "X_scaled = scaler.fit_transform(X_res)"
   ]
  },
  {
   "cell_type": "code",
   "execution_count": null,
   "metadata": {
    "colab": {
     "base_uri": "https://localhost:8080/",
     "height": 564
    },
    "id": "M-7P0AyetZVe",
    "outputId": "90f6ecf6-2656-46dd-fa1f-e02bef7955c5"
   },
   "outputs": [],
   "source": [
    "pca = PCA(n_components=2)\n",
    "X_pca = pca.fit_transform(X_scaled)\n",
    "\n",
    "# Visualization\n",
    "plt.figure(figsize=(8,6))\n",
    "plt.scatter(X_pca[:,0], X_pca[:,1], c=y_res, cmap='coolwarm', alpha=0.5)\n",
    "plt.xlabel('PCA1')\n",
    "plt.ylabel('PCA2')\n",
    "plt.legend([\"Blue - normal, Red - (D)DoS\"])\n",
    "plt.title('PCA of IoT Features')\n",
    "plt.show()\n"
   ]
  },
  {
   "cell_type": "code",
   "execution_count": null,
   "metadata": {
    "colab": {
     "base_uri": "https://localhost:8080/",
     "height": 853
    },
    "id": "iF28HDNKtbSS",
    "outputId": "b236646b-4ade-42c0-fdac-df000adb9896"
   },
   "outputs": [],
   "source": [
    "plt.figure(figsize=(20,20))\n",
    "sns.heatmap(pd.DataFrame(X_scaled).corr(), cmap='coolwarm', annot=False)\n",
    "plt.xticks(list(range(0,len(X_res.columns))),X_res.columns)\n",
    "plt.yticks(list(range(0,len(X_res.columns))),X_res.columns)\n",
    "plt.title('Feature Correlation Heatmap')\n",
    "plt.show()\n"
   ]
  },
  {
   "cell_type": "code",
   "execution_count": null,
   "metadata": {
    "colab": {
     "base_uri": "https://localhost:8080/",
     "height": 545
    },
    "id": "AbsPPKLbtegl",
    "outputId": "42ba0856-d0c0-4bd3-d738-5406a5cc41d7"
   },
   "outputs": [],
   "source": [
    "from sklearn.ensemble import RandomForestClassifier\n",
    "\n",
    "rf = RandomForestClassifier()\n",
    "rf.fit(X_scaled, y_res)\n",
    "importances = rf.feature_importances_\n",
    "\n",
    "plt.figure(figsize=(18,6))\n",
    "plt.bar(range(len(importances)), importances)\n",
    "plt.title('Feature Importance')\n",
    "plt.xticks(list(range(0,len(X_res.columns))),X_res.columns)\n",
    "plt.show()\n"
   ]
  },
  {
   "cell_type": "markdown",
   "metadata": {},
   "source": [
    "## Feature Engineering"
   ]
  },
  {
   "cell_type": "markdown",
   "metadata": {},
   "source": [
    "### Before"
   ]
  },
  {
   "cell_type": "code",
   "execution_count": null,
   "metadata": {
    "colab": {
     "base_uri": "https://localhost:8080/"
    },
    "id": "De27xvQathtQ",
    "outputId": "cba53a9b-99e0-4a23-e445-a43a4b6cfc82"
   },
   "outputs": [],
   "source": [
    "df.describe()"
   ]
  },
  {
   "cell_type": "markdown",
   "metadata": {},
   "source": [
    "### After"
   ]
  },
  {
   "cell_type": "code",
   "execution_count": null,
   "metadata": {},
   "outputs": [],
   "source": [
    "after = pd.DataFrame(X_scaled)\n",
    "after.columns = X_res.columns\n",
    "after.describe()"
   ]
  },
  {
   "cell_type": "markdown",
   "metadata": {},
   "source": [
    "# Export"
   ]
  },
  {
   "cell_type": "code",
   "execution_count": null,
   "metadata": {
    "id": "ejSjF_cftn_d"
   },
   "outputs": [],
   "source": [
    "df_engineered = pd.DataFrame(X_scaled, columns=X_numeric.columns)\n",
    "df_engineered['label'] = y_res\n",
    "df_engineered.to_csv(\"./team_11_ton-iot-engineered.csv\", index=False)"
   ]
  }
 ],
 "metadata": {
  "colab": {
   "provenance": []
  },
  "kernelspec": {
   "display_name": ".venv",
   "language": "python",
   "name": "python3"
  },
  "language_info": {
   "codemirror_mode": {
    "name": "ipython",
    "version": 3
   },
   "file_extension": ".py",
   "mimetype": "text/x-python",
   "name": "python",
   "nbconvert_exporter": "python",
   "pygments_lexer": "ipython3",
   "version": "3.13.5"
  }
 },
 "nbformat": 4,
 "nbformat_minor": 0
}
