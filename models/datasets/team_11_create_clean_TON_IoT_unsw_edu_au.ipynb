{
 "cells": [
  {
   "cell_type": "markdown",
   "id": "73c33ebb",
   "metadata": {},
   "source": [
    "# Creating Clean TON_IoT Data\n",
    "Source: https://research.unsw.edu.au/projects/toniot-datasets (See TON_IoT datasets/Processed_datasets/Processed_Network_dataset)\n",
    "____"
   ]
  },
  {
   "cell_type": "code",
   "execution_count": 3,
   "id": "e4f1331f",
   "metadata": {},
   "outputs": [],
   "source": [
    "import pandas as pd\n",
    "from sklearn.model_selection import train_test_split"
   ]
  },
  {
   "cell_type": "markdown",
   "id": "ff55d480",
   "metadata": {},
   "source": [
    "## Read datasets\n",
    "\n",
    "When exporting is complete, please delete the Processed_Network_dataset folder. "
   ]
  },
  {
   "cell_type": "code",
   "execution_count": null,
   "id": "75743c19",
   "metadata": {},
   "outputs": [
    {
     "name": "stderr",
     "output_type": "stream",
     "text": [
      "/var/folders/7l/wnmjyfy150l8x7jxg577djtw0000gr/T/ipykernel_71645/3220266396.py:4: DtypeWarning: Columns (8) have mixed types. Specify dtype option on import or set low_memory=False.\n",
      "  ds_array.append(pd.read_csv(f\"./raw/Processed_Network_dataset/Network_dataset_{i}.csv\"))\n",
      "/var/folders/7l/wnmjyfy150l8x7jxg577djtw0000gr/T/ipykernel_71645/3220266396.py:4: DtypeWarning: Columns (8) have mixed types. Specify dtype option on import or set low_memory=False.\n",
      "  ds_array.append(pd.read_csv(f\"./raw/Processed_Network_dataset/Network_dataset_{i}.csv\"))\n",
      "/var/folders/7l/wnmjyfy150l8x7jxg577djtw0000gr/T/ipykernel_71645/3220266396.py:4: DtypeWarning: Columns (8) have mixed types. Specify dtype option on import or set low_memory=False.\n",
      "  ds_array.append(pd.read_csv(f\"./raw/Processed_Network_dataset/Network_dataset_{i}.csv\"))\n"
     ]
    }
   ],
   "source": [
    "# process data\n",
    "ds_array = []\n",
    "for i in range(1, 24):\n",
    "    try:\n",
    "        ds_array.append(pd.read_csv(f\"./raw/Processed_Network_dataset/Network_dataset_{i}.csv\"))\n",
    "    except FileNotFoundError as e:\n",
    "        print(\"To run this notebook, extract the contents of Processed Network dataset.zip to 'models/datasets/raw'.\")\n",
    "        print(\"The notebook will now raise an error.\")\n",
    "        raise e"
   ]
  },
  {
   "cell_type": "markdown",
   "id": "712743da",
   "metadata": {},
   "source": [
    "# Analyzing data"
   ]
  },
  {
   "cell_type": "markdown",
   "id": "2208bbe5",
   "metadata": {},
   "source": [
    "## What's included."
   ]
  },
  {
   "cell_type": "code",
   "execution_count": null,
   "id": "d193c637",
   "metadata": {},
   "outputs": [
    {
     "name": "stdout",
     "output_type": "stream",
     "text": [
      "What the data finds: ['normal', 'scanning', 'dos', 'injection', 'ddos', 'password', 'xss', 'ransomware', 'backdoor', 'mitm']\n"
     ]
    }
   ],
   "source": [
    "# quick check to see available types\n",
    "what_i_use = []\n",
    "for i in range(0, 23):\n",
    "    for e in ds_array[i][\"type\"].unique():\n",
    "        if e not in what_i_use:\n",
    "            what_i_use.append(e)\n",
    "print(f\"What the data finds: {what_i_use}\")"
   ]
  },
  {
   "cell_type": "code",
   "execution_count": null,
   "id": "6e159de8",
   "metadata": {},
   "outputs": [
    {
     "name": "stdout",
     "output_type": "stream",
     "text": [
      "Spreadsheet 1\n",
      "type\n",
      "scanning    791321\n",
      "normal      208679\n",
      "Name: count, dtype: int64\n",
      "\n",
      "Spreadsheet 2\n",
      "type\n",
      "scanning    994283\n",
      "normal        5717\n",
      "Name: count, dtype: int64\n",
      "\n",
      "Spreadsheet 3\n",
      "type\n",
      "scanning    997180\n",
      "normal        2820\n",
      "Name: count, dtype: int64\n",
      "\n",
      "Spreadsheet 4\n",
      "type\n",
      "scanning    993744\n",
      "normal        6256\n",
      "Name: count, dtype: int64\n",
      "\n",
      "Spreadsheet 5\n",
      "type\n",
      "scanning    996343\n",
      "normal        3657\n",
      "Name: count, dtype: int64\n",
      "\n",
      "Spreadsheet 6\n",
      "type\n",
      "scanning    986527\n",
      "normal       13473\n",
      "Name: count, dtype: int64\n",
      "\n",
      "Spreadsheet 7\n",
      "type\n",
      "scanning    992501\n",
      "normal        7499\n",
      "Name: count, dtype: int64\n",
      "\n",
      "Spreadsheet 8\n",
      "type\n",
      "dos         590432\n",
      "scanning    388262\n",
      "normal       21306\n",
      "Name: count, dtype: int64\n",
      "\n",
      "Spreadsheet 9\n",
      "type\n",
      "dos       975261\n",
      "normal     24739\n",
      "Name: count, dtype: int64\n",
      "\n",
      "Spreadsheet 10\n",
      "type\n",
      "dos       969998\n",
      "normal     30002\n",
      "Name: count, dtype: int64\n",
      "\n",
      "Spreadsheet 11\n",
      "type\n",
      "dos          839637\n",
      "injection    125195\n",
      "normal        35168\n",
      "Name: count, dtype: int64\n",
      "\n",
      "Spreadsheet 12\n",
      "type\n",
      "ddos         639730\n",
      "injection    327464\n",
      "normal        32806\n",
      "Name: count, dtype: int64\n",
      "\n",
      "Spreadsheet 13\n",
      "type\n",
      "ddos      999083\n",
      "normal       917\n",
      "Name: count, dtype: int64\n",
      "\n",
      "Spreadsheet 14\n",
      "type\n",
      "ddos      999417\n",
      "normal       583\n",
      "Name: count, dtype: int64\n",
      "\n",
      "Spreadsheet 15\n",
      "type\n",
      "ddos      998940\n",
      "normal      1060\n",
      "Name: count, dtype: int64\n",
      "\n",
      "Spreadsheet 16\n",
      "type\n",
      "ddos      998109\n",
      "normal      1891\n",
      "Name: count, dtype: int64\n",
      "\n",
      "Spreadsheet 17\n",
      "type\n",
      "ddos      966289\n",
      "normal     33711\n",
      "Name: count, dtype: int64\n",
      "\n",
      "Spreadsheet 18\n",
      "type\n",
      "ddos        563440\n",
      "password    387124\n",
      "normal       49436\n",
      "Name: count, dtype: int64\n",
      "\n",
      "Spreadsheet 19\n",
      "type\n",
      "password    987292\n",
      "normal       12708\n",
      "Name: count, dtype: int64\n",
      "\n",
      "Spreadsheet 20\n",
      "type\n",
      "xss         634766\n",
      "password    344152\n",
      "normal       21082\n",
      "Name: count, dtype: int64\n",
      "\n",
      "Spreadsheet 21\n",
      "type\n",
      "xss       985593\n",
      "normal     14407\n",
      "Name: count, dtype: int64\n",
      "\n",
      "Spreadsheet 22\n",
      "type\n",
      "xss           488585\n",
      "normal        234988\n",
      "backdoor      203622\n",
      "ransomware     72805\n",
      "Name: count, dtype: int64\n",
      "\n",
      "Spreadsheet 23\n",
      "type\n",
      "backdoor    304494\n",
      "normal       33475\n",
      "mitm          1052\n",
      "Name: count, dtype: int64\n",
      "\n"
     ]
    }
   ],
   "source": [
    "# print counts per type\n",
    "for i in range(0, 23):\n",
    "    print(f\"Spreadsheet {i+1}\") \n",
    "    print(ds_array[i][\"type\"].value_counts(), end=\"\\n\\n\")"
   ]
  },
  {
   "cell_type": "markdown",
   "id": "66427f1d",
   "metadata": {},
   "source": [
    "# Data cleaning"
   ]
  },
  {
   "cell_type": "markdown",
   "id": "537c1683",
   "metadata": {},
   "source": [
    "## Removing unneccessary columns"
   ]
  },
  {
   "cell_type": "code",
   "execution_count": null,
   "id": "dfd66767",
   "metadata": {},
   "outputs": [],
   "source": [
    "# cleaning\n",
    "for i in range(0, 23):\n",
    "    ds_array[i] = ds_array[i].drop(columns=[\n",
    "        \"service\",\"dns_query\", \"dns_AA\", \n",
    "        \"dns_RD\", \"dns_RA\", \"dns_rejected\", \n",
    "        \"ssl_version\", \"ssl_cipher\", \"ssl_resumed\", \n",
    "        \"ssl_established\", \"ssl_subject\", \"ssl_issuer\", \n",
    "        \"http_trans_depth\", \"http_method\", \"http_uri\", \n",
    "        \"http_version\", \"http_request_body_len\", \"http_response_body_len\", \n",
    "        \"http_status_code\", \"http_user_agent\", \"http_orig_mime_types\", \n",
    "        \"http_resp_mime_types\", \"weird_name\", \"weird_addl\", \n",
    "        \"weird_notice\", \"dns_qclass\",\n",
    "        \"dns_qtype\", \"dns_rcode\", \"http_referrer\", ])\n",
    "    if \"uid\" in ds_array[i]:\n",
    "        ds_array[i] = ds_array[i].drop(columns=[\"uid\"])"
   ]
  },
  {
   "cell_type": "markdown",
   "id": "564963ce",
   "metadata": {},
   "source": [
    "## Drop specific attack types: \n",
    "* password\n",
    "* xss\n",
    "* ransomware\n",
    "* backdoor\n",
    "* injection\n",
    "* mitm"
   ]
  },
  {
   "cell_type": "code",
   "execution_count": null,
   "id": "a281b495",
   "metadata": {},
   "outputs": [],
   "source": [
    "# drop non-network based attacks\n",
    "for i in range(0, 23):\n",
    "    ds_array[i]= ds_array[i][ds_array[i][\"type\"] != \"password\"]\n",
    "    ds_array[i]= ds_array[i][ds_array[i][\"type\"] != \"xss\"]\n",
    "    ds_array[i]= ds_array[i][ds_array[i][\"type\"] != \"ransomware\"]\n",
    "    ds_array[i]= ds_array[i][ds_array[i][\"type\"] != \"backdoor\"]\n",
    "    ds_array[i]= ds_array[i][ds_array[i][\"type\"] != \"injection\"]\n",
    "    ds_array[i]= ds_array[i][ds_array[i][\"type\"] != \"mitm\"]"
   ]
  },
  {
   "cell_type": "markdown",
   "id": "91b91ef0",
   "metadata": {},
   "source": [
    "### If you wish to see the individual cleaned CSV files:\n",
    "change the following line to True."
   ]
  },
  {
   "cell_type": "code",
   "execution_count": 9,
   "id": "fa8874a0",
   "metadata": {},
   "outputs": [],
   "source": [
    "EXPORT_INDIVIDUAL_CSV = False"
   ]
  },
  {
   "cell_type": "code",
   "execution_count": null,
   "id": "50e14bb4",
   "metadata": {},
   "outputs": [],
   "source": [
    "# see above\n",
    "if EXPORT_INDIVIDUAL_CSV == True:\n",
    "    for i in range(0, 23):\n",
    "        ds_array[i].to_csv(f\"./team_11_individual_TON_IoT_unsw_edu_au_{i+1}.csv\")"
   ]
  },
  {
   "cell_type": "markdown",
   "id": "0074c722",
   "metadata": {},
   "source": [
    "## Reduce dataset"
   ]
  },
  {
   "cell_type": "code",
   "execution_count": null,
   "id": "d2fac054",
   "metadata": {},
   "outputs": [],
   "source": [
    "# merge data\n",
    "newDS  = pd.concat(ds_array, ignore_index=True)"
   ]
  },
  {
   "cell_type": "markdown",
   "id": "409e3f10",
   "metadata": {},
   "source": [
    "### Drop unneeded scanning entries\n",
    "Decided by taking a fraction close to, but less than the amount of 'normal' entries."
   ]
  },
  {
   "cell_type": "code",
   "execution_count": null,
   "id": "58011c4a",
   "metadata": {},
   "outputs": [],
   "source": [
    "SCANNING_ENTRIES = 649106\n",
    "D_DOS_ENTRIES = 474231\n",
    "DOS_ENTRIES = 421916"
   ]
  },
  {
   "cell_type": "markdown",
   "id": "2abd35ba",
   "metadata": {},
   "source": [
    "### Drop unneeded scanning entries"
   ]
  },
  {
   "cell_type": "code",
   "execution_count": null,
   "id": "a1a5ad0b",
   "metadata": {},
   "outputs": [],
   "source": [
    "temp = newDS[newDS[\"type\"] == \"scanning\"]\n",
    "temp = temp.reset_index()\n",
    "# from the end of the data capture and up\n",
    "newDS = newDS.drop(index=list(temp[-(len(temp)- SCANNING_ENTRIES):][\"index\"]))"
   ]
  },
  {
   "cell_type": "markdown",
   "id": "6ec34bd6",
   "metadata": {},
   "source": [
    "### Drop unneeded DDoS entries"
   ]
  },
  {
   "cell_type": "code",
   "execution_count": null,
   "id": "70865238",
   "metadata": {},
   "outputs": [],
   "source": [
    "temp = newDS[newDS[\"type\"] == \"ddos\"]\n",
    "temp = temp.reset_index()\n",
    "# from the end of the data capture and up\n",
    "newDS = newDS.drop(index=list(temp[-(len(temp)- D_DOS_ENTRIES):][\"index\"]))"
   ]
  },
  {
   "cell_type": "markdown",
   "id": "0e9d35fc",
   "metadata": {},
   "source": [
    "### Drop unneeded DoS entries"
   ]
  },
  {
   "cell_type": "code",
   "execution_count": null,
   "id": "0d0a648c",
   "metadata": {},
   "outputs": [],
   "source": [
    "temp = newDS[newDS[\"type\"] == \"dos\"]\n",
    "temp = temp.reset_index()\n",
    "# from the end of the data capture and up\n",
    "newDS = newDS.drop(index=list(temp[-(len(temp)- DOS_ENTRIES):][\"index\"]))"
   ]
  },
  {
   "cell_type": "code",
   "execution_count": 16,
   "id": "506bc2d8",
   "metadata": {},
   "outputs": [
    {
     "data": {
      "text/plain": [
       "type\n",
       "normal      796380\n",
       "scanning    649106\n",
       "ddos        474231\n",
       "dos         421916\n",
       "Name: count, dtype: int64"
      ]
     },
     "execution_count": 16,
     "metadata": {},
     "output_type": "execute_result"
    }
   ],
   "source": [
    "newDS[\"type\"].value_counts()"
   ]
  },
  {
   "cell_type": "markdown",
   "id": "9ddc28d0",
   "metadata": {},
   "source": [
    "# Export"
   ]
  },
  {
   "cell_type": "code",
   "execution_count": 17,
   "id": "913e4e8b",
   "metadata": {},
   "outputs": [],
   "source": [
    "EXPORT_FULLY_CLEAN_CSV = False"
   ]
  },
  {
   "cell_type": "code",
   "execution_count": 18,
   "id": "c2b44cba",
   "metadata": {},
   "outputs": [],
   "source": [
    "if EXPORT_FULLY_CLEAN_CSV:\n",
    "    newDS.to_csv(\"./team_11_TON_IoT_unsw_edu_au_cleaned.csv\")"
   ]
  },
  {
   "cell_type": "code",
   "execution_count": null,
   "id": "3551db48",
   "metadata": {},
   "outputs": [],
   "source": [
    "# export\n",
    "train, test = train_test_split(newDS, test_size=0.2)\n",
    "train.to_csv(\"./team_11_TON_IoT_unsw_edu_au_train.csv\")\n",
    "test.to_csv(\"./team_11_TON_IoT_unsw_edu_au_test.csv\")"
   ]
  }
 ],
 "metadata": {
  "kernelspec": {
   "display_name": ".venv",
   "language": "python",
   "name": "python3"
  },
  "language_info": {
   "codemirror_mode": {
    "name": "ipython",
    "version": 3
   },
   "file_extension": ".py",
   "mimetype": "text/x-python",
   "name": "python",
   "nbconvert_exporter": "python",
   "pygments_lexer": "ipython3",
   "version": "3.13.5"
  }
 },
 "nbformat": 4,
 "nbformat_minor": 5
}
