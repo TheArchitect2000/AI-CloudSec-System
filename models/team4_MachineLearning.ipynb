{
 "cells": [
  {
   "cell_type": "code",
   "execution_count": null,
   "id": "0",
   "metadata": {},
   "outputs": [],
   "source": [
    "import pandas as pd\n",
    "from sklearn.model_selection import train_test_split\n",
    "from sklearn.ensemble import RandomForestClassifier\n",
    "from sklearn.metrics import classification_report\n",
    "from sklearn.preprocessing import LabelEncoder\n"
   ]
  },
  {
   "cell_type": "code",
   "execution_count": null,
   "id": "1",
   "metadata": {},
   "outputs": [],
   "source": [
    "# Load the dataset from Group 1's cleaned CSV file\n",
    "# df = pd.read_csv(\"datasets/Team1_UNSW_NB15_cleaned.csv.zip\")\n",
    "df = pd.read_csv(\"../Step1-Datasets-Feature-Engineering/Team1_UNSW_NB15_cleaned.csv.zip\")\n",
    "# # Check the shape of the dataset\n",
    "# print(\"Dataset shape:\", df.shape)"
   ]
  },
  {
   "cell_type": "code",
   "execution_count": null,
   "id": "2",
   "metadata": {},
   "outputs": [],
   "source": [
    "X = df.drop(\"label\", axis=1) # all features except the target\n",
    "y = df[\"label\"] # target label (0 = normal, 1 = attack)\n",
    "\n",
    "# Encode categorical features\n",
    "for col in X.select_dtypes(include=[\"object\"]).columns:\n",
    "    X[col] = LabelEncoder().fit_transform(X[col])"
   ]
  },
  {
   "cell_type": "code",
   "execution_count": null,
   "id": "3",
   "metadata": {},
   "outputs": [],
   "source": [
    "\n",
    "X_train, X_test, y_train, y_test = train_test_split(X, y, test_size=0.2, random_state=42) #random_state=42 makes the split reproducible\n",
    "# 80% of the data is used for training,  20% is used for testing"
   ]
  },
  {
   "cell_type": "code",
   "execution_count": null,
   "id": "4",
   "metadata": {},
   "outputs": [],
   "source": [
    "model = RandomForestClassifier(n_estimators=100, random_state=42) #train a Random Forest classifier with 100 trees on the training data\n",
    "model.fit(X_train, y_train) # for testing purposes"
   ]
  },
  {
   "cell_type": "code",
   "execution_count": null,
   "id": "5",
   "metadata": {},
   "outputs": [],
   "source": [
    "y_pred = model.predict(X_test) # test the model on the test data\n",
    "print(classification_report(y_test, y_pred))"
   ]
  },
  {
   "cell_type": "markdown",
   "id": "6",
   "metadata": {},
   "source": [
    "# Summary of My Work\n",
    "\n",
    "- we used the **cleaned dataset** from Team1 (`Team1_UNSW_NB15_cleaned.csv.zip`).  \n",
    "- we separated the data into **features (X)** and **labels (y)**.  \n",
    "- we changed text columns (like `proto`, `service`, `state`, `attack_cat`) into numbers with **LabelEncoder**.  \n",
    "- we split the data into **training (80%)** and **testing (20%)**.  \n",
    "- we trained a **Random Forest model** with 100 trees.  \n",
    "- we tested the model and got the **classification report**.  \n",
    "- The model reached **100% accuracy** on the test data.  \n",
    "\n",
    "\n"
   ]
  }
 ],
 "metadata": {
  "kernelspec": {
   "display_name": "Python 3",
   "language": "python",
   "name": "python3"
  },
  "language_info": {
   "codemirror_mode": {
    "name": "ipython",
    "version": 3
   },
   "file_extension": ".py",
   "mimetype": "text/x-python",
   "name": "python",
   "nbconvert_exporter": "python",
   "pygments_lexer": "ipython3",
   "version": "3.13.7"
  }
 },
 "nbformat": 4,
 "nbformat_minor": 5
}
